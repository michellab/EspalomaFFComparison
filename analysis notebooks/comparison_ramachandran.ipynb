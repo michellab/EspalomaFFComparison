{
 "cells": [
  {
   "cell_type": "code",
   "execution_count": 1,
   "metadata": {},
   "outputs": [
    {
     "data": {
      "application/vnd.jupyter.widget-view+json": {
       "model_id": "3361ce0e7b154fb6b02ad7fb6c8fbf4e",
       "version_major": 2,
       "version_minor": 0
      },
      "text/plain": []
     },
     "metadata": {},
     "output_type": "display_data"
    },
    {
     "name": "stderr",
     "output_type": "stream",
     "text": [
      "INFO:rdkit:Enabling RDKit 2023.03.3 jupyter extensions\n",
      "INFO:numexpr.utils:Note: NumExpr detected 20 cores but \"NUMEXPR_MAX_THREADS\" not set, so enforcing safe limit of 8.\n",
      "INFO:numexpr.utils:NumExpr defaulting to 8 threads.\n"
     ]
    }
   ],
   "source": [
    "import BioSimSpace as BSS\n",
    "import parmed as pmd\n",
    "import mdtraj as md\n",
    "import matplotlib.pyplot as plt\n",
    "import numpy as np\n",
    "import seaborn as sns\n",
    "import pickle\n",
    "import pandas as pd"
   ]
  },
  {
   "cell_type": "markdown",
   "metadata": {},
   "source": [
    "Amber analysis of the trajs "
   ]
  },
  {
   "cell_type": "code",
   "execution_count": null,
   "metadata": {},
   "outputs": [],
   "source": [
    "#amber trajectories 100 ns \n",
    "traj_1 = md.load(\"/pascal/data/project/100ns_prod_runs/prod_100ns_amber_lig_only_4000_1/amber.nc\", top=\"/pascal/data/project/100ns_prod_runs/prod_100ns_amber_lig_only_4000_1/amber_copy.parm7\")\n",
    "traj_2 = md.load(\"/pascal/data/project/100ns_prod_runs/prod_100ns_amber_lig_only_4000_2/amber.nc\", top=\"/pascal/data/project/100ns_prod_runs/prod_100ns_amber_lig_only_4000_2/amber_copy.parm7\")\n",
    "traj_3 = md.load(\"/pascal/data/project/100ns_prod_runs/prod_100ns_amber_lig_only_4000_3/amber.nc\", top=\"/pascal/data/project/100ns_prod_runs/prod_100ns_amber_lig_only_4000_3/amber_copy.parm7\")\n",
    "\n",
    "\n",
    "#1 microsecond long trajectories, to be loaded and analysed one by one \n",
    "#traj_1 = md.load(\"/pascal/data/project/prod_runs/prod_1000ns_amber_lig_only_4000_1/amber.nc\", top=\"/pascal/data/project/prod_runs/prod_1000ns_amber_lig_only_4000_1/amber_copy.parm7\")\n",
    "#traj_2= md.load(\"/pascal/data/project/prod_runs/prod_1000ns_amber_lig_only_4000_2/amber.nc\", top=\"/pascal/data/project/prod_runs/prod_1000ns_amber_lig_only_4000_2/amber_copy.parm7\")\n",
    "#traj_3= md.load(\"/pascal/data/project/prod_runs/prod_1000ns_amber_lig_only_4000_3/amber.nc\", top=\"/pascal/data/project/prod_runs/prod_1000ns_amber_lig_only_4000_3/amber_copy.parm7\")"
   ]
  },
  {
   "cell_type": "code",
   "execution_count": null,
   "metadata": {},
   "outputs": [],
   "source": [
    "comp19_traj_1= traj_1.remove_solvent()\n",
    "comp19_traj_2= traj_2.remove_solvent()\n",
    "comp19_traj_3= traj_3.remove_solvent()"
   ]
  },
  {
   "cell_type": "code",
   "execution_count": null,
   "metadata": {},
   "outputs": [],
   "source": [
    "#discarding the first 5 % of the trajectory frames of the trajectory without solvent\n",
    "\n",
    "discard_frames= int(0.05*traj_1.n_frames)\n",
    "print(discard_frames)\n",
    "trimmed_comp19_1 = comp19_traj_1[discard_frames:]\n",
    "trimmed_comp19_2 = comp19_traj_2[discard_frames:]\n",
    "trimmed_comp19_3 = comp19_traj_3[discard_frames:]\n",
    "#print(len(trimmed_comp19_3))"
   ]
  },
  {
   "cell_type": "code",
   "execution_count": null,
   "metadata": {},
   "outputs": [],
   "source": [
    "#indices for residues separately\n",
    "dal_phi= [33,35,37,43]\n",
    "dal_psi =[35,37,43,45]\n",
    "dal_indices= [dal_phi, dal_psi]\n",
    "phe_phi =[43, 45,47,62]\n",
    "phe_psi=[45, 47, 62, 64]\n",
    "phe_indices= [phe_phi, phe_psi]\n",
    "ftr_phi=[62, 64, 66, 86]\n",
    "ftr_psi=[64, 66, 86, 88]\n",
    "ftr_indices= [ftr_phi, ftr_psi]\n",
    "pro_phi=[86, 88, 97, 99]\n",
    "pro_psi=[88, 97, 99, 101]\n",
    "pro_indices= [pro_phi, pro_psi]\n",
    "thr_phi=[99, 101, 103, 113]\n",
    "thr_psi=[101, 103, 113, 115]\n",
    "thr_indices= [thr_phi, thr_psi]"
   ]
  },
  {
   "cell_type": "code",
   "execution_count": null,
   "metadata": {},
   "outputs": [],
   "source": [
    "#computing phi and psi angles for dal\n",
    "dal_angles_1= md.compute_dihedrals(trimmed_comp19_1, indices=dal_indices)\n",
    "dal_angles_2= md.compute_dihedrals(trimmed_comp19_2, indices=dal_indices)\n",
    "dal_angles_3= md.compute_dihedrals(trimmed_comp19_3, indices=dal_indices)\n",
    "\n",
    "dal_phi_angles_1= [item[0] for item in dal_angles_1]\n",
    "dal_phi_angles_2= [item[0] for item in dal_angles_2]\n",
    "dal_phi_angles_3= [item[0] for item in dal_angles_3]\n",
    "\n",
    "dal_psi_angles_1= [item[1]for item in dal_angles_1]\n",
    "dal_psi_angles_2= [item[1]for item in dal_angles_2]\n",
    "dal_psi_angles_3= [item[1]for item in dal_angles_3]\n",
    "\n",
    "#angles for phe\n",
    "phe_angles_1= md.compute_dihedrals(trimmed_comp19_1, indices=phe_indices)\n",
    "phe_angles_2= md.compute_dihedrals(trimmed_comp19_2, indices=phe_indices)\n",
    "phe_angles_3= md.compute_dihedrals(trimmed_comp19_3, indices=phe_indices)\n",
    "\n",
    "phe_phi_angles_1= [item[0] for item in phe_angles_1]\n",
    "phe_phi_angles_2= [item[0] for item in phe_angles_2]\n",
    "phe_phi_angles_3= [item[0] for item in phe_angles_3]\n",
    "\n",
    "phe_psi_angles_1= [item[1]for item in phe_angles_1]\n",
    "phe_psi_angles_2= [item[1]for item in phe_angles_2]\n",
    "phe_psi_angles_3= [item[1]for item in phe_angles_3]\n",
    "\n",
    "#angles for ftr\n",
    "ftr_angles_1= md.compute_dihedrals(trimmed_comp19_1, indices=ftr_indices)\n",
    "ftr_angles_2= md.compute_dihedrals(trimmed_comp19_2, indices=ftr_indices)\n",
    "ftr_angles_3= md.compute_dihedrals(trimmed_comp19_3, indices=ftr_indices)\n",
    "\n",
    "ftr_phi_angles_1= [item[0] for item in ftr_angles_1]\n",
    "ftr_phi_angles_2= [item[0] for item in ftr_angles_2]\n",
    "ftr_phi_angles_3= [item[0] for item in ftr_angles_3]\n",
    "\n",
    "ftr_psi_angles_1= [item[1]for item in ftr_angles_1]\n",
    "ftr_psi_angles_2= [item[1]for item in ftr_angles_2]\n",
    "ftr_psi_angles_3= [item[1]for item in ftr_angles_3]\n",
    "\n",
    "#angles for pro\n",
    "pro_angles_1= md.compute_dihedrals(trimmed_comp19_1, indices=pro_indices)\n",
    "pro_angles_2= md.compute_dihedrals(trimmed_comp19_2, indices=pro_indices)\n",
    "pro_angles_3= md.compute_dihedrals(trimmed_comp19_3, indices=pro_indices)\n",
    "\n",
    "pro_phi_angles_1= [item[0] for item in pro_angles_1]\n",
    "pro_phi_angles_2= [item[0] for item in pro_angles_2]\n",
    "pro_phi_angles_3= [item[0] for item in pro_angles_3]\n",
    "\n",
    "pro_psi_angles_1= [item[1]for item in pro_angles_1]\n",
    "pro_psi_angles_2= [item[1]for item in pro_angles_2]\n",
    "pro_psi_angles_3= [item[1]for item in pro_angles_3]\n",
    "\n",
    "#angles for thr\n",
    "thr_angles_1= md.compute_dihedrals(trimmed_comp19_1, indices=thr_indices)\n",
    "thr_angles_2= md.compute_dihedrals(trimmed_comp19_2, indices=thr_indices)\n",
    "thr_angles_3= md.compute_dihedrals(trimmed_comp19_3, indices=thr_indices)\n",
    "\n",
    "thr_phi_angles_1= [item[0] for item in thr_angles_1]\n",
    "thr_phi_angles_2= [item[0] for item in thr_angles_2]\n",
    "thr_phi_angles_3= [item[0] for item in thr_angles_3]\n",
    "\n",
    "thr_psi_angles_1= [item[1]for item in thr_angles_1]\n",
    "thr_psi_angles_2= [item[1]for item in thr_angles_2]\n",
    "thr_psi_angles_3= [item[1]for item in thr_angles_3]\n"
   ]
  },
  {
   "cell_type": "code",
   "execution_count": null,
   "metadata": {},
   "outputs": [],
   "source": [
    "dal_all_phi = dal_phi_angles_1 + dal_phi_angles_2 + dal_phi_angles_3\n",
    "dal_all_psi = dal_psi_angles_1 + dal_psi_angles_2 + dal_psi_angles_3\n",
    "phe_all_phi = phe_phi_angles_1 + phe_phi_angles_2 + phe_phi_angles_3\n",
    "phe_all_psi = phe_psi_angles_1 + phe_psi_angles_2 + phe_psi_angles_3\n",
    "ftr_all_phi = ftr_phi_angles_1 + ftr_phi_angles_2 + ftr_phi_angles_3\n",
    "ftr_all_psi = ftr_psi_angles_1 + ftr_psi_angles_2 + ftr_psi_angles_3\n",
    "pro_all_phi = pro_phi_angles_1 + pro_phi_angles_2 + pro_phi_angles_3\n",
    "pro_all_psi = pro_psi_angles_1 + pro_psi_angles_2 + pro_psi_angles_3\n",
    "thr_all_phi = thr_phi_angles_1 + thr_phi_angles_2 + thr_phi_angles_3\n",
    "thr_all_psi = thr_psi_angles_1 + thr_psi_angles_2 + thr_psi_angles_3\n",
    "\n",
    "print(len(dal_all_phi))"
   ]
  },
  {
   "cell_type": "code",
   "execution_count": null,
   "metadata": {},
   "outputs": [],
   "source": [
    "#saving the angles of different residues as pkl files \n",
    "with open('pkl_newamber/dal_phi_angles_100.pkl', 'wb') as file:\n",
    "    pickle.dump(dal_all_phi, file)\n",
    "\n",
    "with open('pkl_newamber/dal_psi_angles_100.pkl', 'wb') as file:\n",
    "    pickle.dump(dal_all_psi, file)\n",
    "\n",
    "with open('pkl_newamber/phe_phi_angles_100.pkl', 'wb') as file:\n",
    "    pickle.dump(phe_all_phi, file)\n",
    "\n",
    "with open('pkl_newamber/phe_psi_angles_100.pkl', 'wb') as file:\n",
    "    pickle.dump(phe_all_psi, file)\n",
    "\n",
    "with open('pkl_newamber/ftr_phi_angles_100.pkl', 'wb') as file:\n",
    "    pickle.dump(ftr_all_phi, file)\n",
    "\n",
    "with open('pkl_newamber/ftr_psi_angles_100.pkl', 'wb') as file:\n",
    "    pickle.dump(ftr_all_psi, file)\n",
    "\n",
    "with open('pkl_newamber/pro_phi_angles_100.pkl', 'wb') as file:\n",
    "    pickle.dump(pro_all_phi, file)\n",
    "\n",
    "with open('pkl_newamber/pro_psi_angles_100.pkl', 'wb') as file:\n",
    "    pickle.dump(pro_all_psi, file)\n",
    "\n",
    "with open('pkl_newamber/thr_phi_angles_100.pkl', 'wb') as file:\n",
    "    pickle.dump(thr_all_phi, file)\n",
    "\n",
    "with open('pkl_newamber/thr_psi_angles_100.pkl', 'wb') as file:\n",
    "    pickle.dump(thr_all_psi, file)\n"
   ]
  },
  {
   "cell_type": "markdown",
   "metadata": {},
   "source": [
    "Espaloma analysis "
   ]
  },
  {
   "cell_type": "code",
   "execution_count": null,
   "metadata": {},
   "outputs": [],
   "source": [
    "#100 ns trajectories, can be analysed all together, small enough\n",
    "\n",
    "traj_1 = md.load(\"prod_100ns_4000/amber.nc\", top= \"prod_100ns_4000/amber_copy.parm7\")\n",
    "traj_2= md.load(\"prod_100ns_4000_2/amber.nc\", top= \"prod_100ns_4000_2/amber_copy.parm7\")\n",
    "traj_3= md.load(\"prod_100ns_4000_3/amber.nc\", top= \"prod_100ns_4000_3/amber_copy.parm7\")\n",
    "\n",
    "#1 microsecond long trajectories, to be loaded and analysed one by one \n",
    "#traj_1 = md.load(\"prod_1000ns_40000/amber.nc\", top= \"prod_1000ns_40000/amber_copy.parm7\")\n",
    "#traj_2= md.load(\"prod_1000ns_40000_2/amber.nc\", top= \"prod_1000ns_40000_2/amber_copy.parm7\")\n",
    "#traj_3= md.load(\"prod_1000ns_40000_3/amber.nc\", top= \"prod_1000ns_40000_3/amber_copy.parm7\")"
   ]
  },
  {
   "cell_type": "code",
   "execution_count": null,
   "metadata": {},
   "outputs": [],
   "source": [
    "comp19_traj_1= traj_1.remove_solvent()\n",
    "comp19_traj_2= traj_2.remove_solvent()\n",
    "comp19_traj_3= traj_3.remove_solvent()"
   ]
  },
  {
   "cell_type": "code",
   "execution_count": null,
   "metadata": {},
   "outputs": [],
   "source": [
    "#discarding the first 5 % of the trajectory frames of the trajectory without solvent\n",
    "\n",
    "discard_frames= int(0.05*traj_3.n_frames)\n",
    "print(discard_frames)\n",
    "trimmed_comp19_1 = comp19_traj_1[discard_frames:]\n",
    "trimmed_comp19_2 = comp19_traj_2[discard_frames:]\n",
    "trimmed_comp19_3 = comp19_traj_3[discard_frames:]\n",
    "print(len(trimmed_comp19_3))"
   ]
  },
  {
   "cell_type": "code",
   "execution_count": null,
   "metadata": {},
   "outputs": [],
   "source": [
    "#indices for residues separately\n",
    "dal_phi= [15,18,19,21]\n",
    "dal_psi =[18,19,21,23]\n",
    "dal_indices= [dal_phi, dal_psi]\n",
    "phe_phi =[21,23,24,25]\n",
    "phe_psi=[23,24,25,34]\n",
    "phe_indices= [phe_phi, phe_psi]\n",
    "ftr_phi=[25,34,35,47]\n",
    "ftr_psi=[34,35,47,49]\n",
    "ftr_indices= [ftr_phi, ftr_psi]\n",
    "pro_phi=[47,49,50, 51]\n",
    "pro_psi=[49,50,51,56]\n",
    "pro_indices= [pro_phi, pro_psi]\n",
    "thr_phi=[51,56,57,58]\n",
    "thr_psi=[56,57, 58,63]\n",
    "thr_indices= [thr_phi, thr_psi]"
   ]
  },
  {
   "cell_type": "code",
   "execution_count": null,
   "metadata": {},
   "outputs": [],
   "source": [
    "#computing phi and psi angles for dal\n",
    "dal_angles_1= md.compute_dihedrals(trimmed_comp19_1, indices=dal_indices)\n",
    "dal_angles_2= md.compute_dihedrals(trimmed_comp19_2, indices=dal_indices)\n",
    "dal_angles_3= md.compute_dihedrals(trimmed_comp19_3, indices=dal_indices)\n",
    "\n",
    "dal_phi_angles_1= [item[0] for item in dal_angles_1]\n",
    "dal_phi_angles_2= [item[0] for item in dal_angles_2]\n",
    "dal_phi_angles_3= [item[0] for item in dal_angles_3]\n",
    "\n",
    "dal_psi_angles_1= [item[1]for item in dal_angles_1]\n",
    "dal_psi_angles_2= [item[1]for item in dal_angles_2]\n",
    "dal_psi_angles_3= [item[1]for item in dal_angles_3]\n",
    "\n",
    "#angles for phe\n",
    "phe_angles_1= md.compute_dihedrals(trimmed_comp19_1, indices=phe_indices)\n",
    "phe_angles_2= md.compute_dihedrals(trimmed_comp19_2, indices=phe_indices)\n",
    "phe_angles_3= md.compute_dihedrals(trimmed_comp19_3, indices=phe_indices)\n",
    "\n",
    "phe_phi_angles_1= [item[0] for item in phe_angles_1]\n",
    "phe_phi_angles_2= [item[0] for item in phe_angles_2]\n",
    "phe_phi_angles_3= [item[0] for item in phe_angles_3]\n",
    "\n",
    "phe_psi_angles_1= [item[1]for item in phe_angles_1]\n",
    "phe_psi_angles_2= [item[1]for item in phe_angles_2]\n",
    "phe_psi_angles_3= [item[1]for item in phe_angles_3]\n",
    "\n",
    "#angles for ftr\n",
    "ftr_angles_1= md.compute_dihedrals(trimmed_comp19_1, indices=ftr_indices)\n",
    "ftr_angles_2= md.compute_dihedrals(trimmed_comp19_2, indices=ftr_indices)\n",
    "ftr_angles_3= md.compute_dihedrals(trimmed_comp19_3, indices=ftr_indices)\n",
    "\n",
    "ftr_phi_angles_1= [item[0] for item in ftr_angles_1]\n",
    "ftr_phi_angles_2= [item[0] for item in ftr_angles_2]\n",
    "ftr_phi_angles_3= [item[0] for item in ftr_angles_3]\n",
    "\n",
    "ftr_psi_angles_1= [item[1]for item in ftr_angles_1]\n",
    "ftr_psi_angles_2= [item[1]for item in ftr_angles_2]\n",
    "ftr_psi_angles_3= [item[1]for item in ftr_angles_3]\n",
    "\n",
    "#angles for pro\n",
    "pro_angles_1= md.compute_dihedrals(trimmed_comp19_1, indices=pro_indices)\n",
    "pro_angles_2= md.compute_dihedrals(trimmed_comp19_2, indices=pro_indices)\n",
    "pro_angles_3= md.compute_dihedrals(trimmed_comp19_3, indices=pro_indices)\n",
    "\n",
    "pro_phi_angles_1= [item[0] for item in pro_angles_1]\n",
    "pro_phi_angles_2= [item[0] for item in pro_angles_2]\n",
    "pro_phi_angles_3= [item[0] for item in pro_angles_3]\n",
    "\n",
    "pro_psi_angles_1= [item[1]for item in pro_angles_1]\n",
    "pro_psi_angles_2= [item[1]for item in pro_angles_2]\n",
    "pro_psi_angles_3= [item[1]for item in pro_angles_3]\n",
    "\n",
    "#angles for thr\n",
    "thr_angles_1= md.compute_dihedrals(trimmed_comp19_1, indices=thr_indices)\n",
    "thr_angles_2= md.compute_dihedrals(trimmed_comp19_2, indices=thr_indices)\n",
    "thr_angles_3= md.compute_dihedrals(trimmed_comp19_3, indices=thr_indices)\n",
    "\n",
    "thr_phi_angles_1= [item[0] for item in thr_angles_1]\n",
    "thr_phi_angles_2= [item[0] for item in thr_angles_2]\n",
    "thr_phi_angles_3= [item[0] for item in thr_angles_3]\n",
    "\n",
    "thr_psi_angles_1= [item[1]for item in thr_angles_1]\n",
    "thr_psi_angles_2= [item[1]for item in thr_angles_2]\n",
    "thr_psi_angles_3= [item[1]for item in thr_angles_3]\n"
   ]
  },
  {
   "cell_type": "code",
   "execution_count": null,
   "metadata": {},
   "outputs": [],
   "source": [
    "dal_all_phi = dal_phi_angles_1 + dal_phi_angles_2 + dal_phi_angles_3\n",
    "dal_all_psi = dal_psi_angles_1 + dal_psi_angles_2 + dal_psi_angles_3\n",
    "phe_all_phi = phe_phi_angles_1 + phe_phi_angles_2 + phe_phi_angles_3\n",
    "phe_all_psi = phe_psi_angles_1 + phe_psi_angles_2 + phe_psi_angles_3\n",
    "ftr_all_phi = ftr_phi_angles_1 + ftr_phi_angles_2 + ftr_phi_angles_3\n",
    "ftr_all_psi = ftr_psi_angles_1 + ftr_psi_angles_2 + ftr_psi_angles_3\n",
    "pro_all_phi = pro_phi_angles_1 + pro_phi_angles_2 + pro_phi_angles_3\n",
    "pro_all_psi = pro_psi_angles_1 + pro_psi_angles_2 + pro_psi_angles_3\n",
    "thr_all_phi = thr_phi_angles_1 + thr_phi_angles_2 + thr_phi_angles_3\n",
    "thr_all_psi = thr_psi_angles_1 + thr_psi_angles_2 + thr_psi_angles_3\n",
    "\n",
    "\n",
    "print(len(dal_all_phi))"
   ]
  },
  {
   "cell_type": "code",
   "execution_count": null,
   "metadata": {},
   "outputs": [],
   "source": [
    "#saving the angles of different residues as pkl files \n",
    "with open('sampling_ram_esp/dal_phi_angles_100.pkl', 'wb') as file:\n",
    "    pickle.dump(dal_all_phi, file)\n",
    "\n",
    "with open('sampling_ram_esp/dal_psi_angles_100.pkl', 'wb') as file:\n",
    "    pickle.dump(dal_all_psi, file)\n",
    "\n",
    "with open('sampling_ram_esp/phe_phi_angles_100.pkl', 'wb') as file:\n",
    "    pickle.dump(phe_all_phi, file)\n",
    "\n",
    "with open('sampling_ram_esp/phe_psi_angles_100.pkl', 'wb') as file:\n",
    "    pickle.dump(phe_all_psi, file)\n",
    "\n",
    "with open('sampling_ram_esp/ftr_phi_angles_100.pkl', 'wb') as file:\n",
    "    pickle.dump(ftr_all_phi, file)\n",
    "\n",
    "with open('sampling_ram_esp/ftr_psi_angles_100.pkl', 'wb') as file:\n",
    "    pickle.dump(ftr_all_psi, file)\n",
    "\n",
    "with open('sampling_ram_esp/pro_phi_angles_100.pkl', 'wb') as file:\n",
    "    pickle.dump(pro_all_phi, file)\n",
    "\n",
    "with open('sampling_ram_esp/pro_psi_angles_100.pkl', 'wb') as file:\n",
    "    pickle.dump(pro_all_psi, file)\n",
    "\n",
    "with open('sampling_ram_esp/thr_phi_angles_100.pkl', 'wb') as file:\n",
    "    pickle.dump(thr_all_phi, file)\n",
    "\n",
    "with open('sampling_ram_esp/thr_psi_angles_100.pkl', 'wb') as file:\n",
    "    pickle.dump(thr_all_psi, file)\n"
   ]
  },
  {
   "cell_type": "markdown",
   "metadata": {},
   "source": [
    "Making the plots one by one "
   ]
  },
  {
   "cell_type": "code",
   "execution_count": 38,
   "metadata": {},
   "outputs": [],
   "source": [
    "#if necessary for big 1 microsecond files: load pkl files again, add third (or more dataset) and save the pkl file again\n",
    "with open('sampling_ram_esp/thr_phi_angles_1000.pkl', 'rb') as file:\n",
    "    esp_all_phi = pickle.load(file)\n",
    "with open('sampling_ram_esp/thr_psi_angles_1000.pkl', 'rb') as file:\n",
    "    esp_all_psi = pickle.load(file)\n",
    "\n",
    "with open('pkl_newamber/thr_phi_angles_1000.pkl', 'rb') as file:\n",
    "    amb_all_phi = pickle.load(file)\n",
    "with open('pkl_newamber/thr_psi_angles_1000.pkl', 'rb') as file:\n",
    "    amb_all_psi = pickle.load(file)"
   ]
  },
  {
   "cell_type": "code",
   "execution_count": 39,
   "metadata": {},
   "outputs": [],
   "source": [
    "phi_deg_amb= np.degrees(amb_all_phi)\n",
    "psi_deg_amb= np.degrees(amb_all_psi)\n",
    "phi_deg_esp= np.degrees(esp_all_phi)\n",
    "psi_deg_esp= np.degrees(esp_all_psi)"
   ]
  },
  {
   "cell_type": "code",
   "execution_count": 40,
   "metadata": {},
   "outputs": [
    {
     "data": {
      "text/plain": [
       "array([-85.6583  , -84.036285, -86.7345  , ..., -69.39145 , -81.34401 ,\n",
       "       -66.86738 ], dtype=float32)"
      ]
     },
     "execution_count": 40,
     "metadata": {},
     "output_type": "execute_result"
    }
   ],
   "source": [
    "phi_deg_amb"
   ]
  },
  {
   "cell_type": "code",
   "execution_count": 41,
   "metadata": {},
   "outputs": [
    {
     "data": {
      "text/html": [
       "<div>\n",
       "<style scoped>\n",
       "    .dataframe tbody tr th:only-of-type {\n",
       "        vertical-align: middle;\n",
       "    }\n",
       "\n",
       "    .dataframe tbody tr th {\n",
       "        vertical-align: top;\n",
       "    }\n",
       "\n",
       "    .dataframe thead th {\n",
       "        text-align: right;\n",
       "    }\n",
       "</style>\n",
       "<table border=\"1\" class=\"dataframe\">\n",
       "  <thead>\n",
       "    <tr style=\"text-align: right;\">\n",
       "      <th></th>\n",
       "      <th>Phi</th>\n",
       "      <th>Psi</th>\n",
       "      <th>FF</th>\n",
       "    </tr>\n",
       "  </thead>\n",
       "  <tbody>\n",
       "    <tr>\n",
       "      <th>0</th>\n",
       "      <td>168.980804</td>\n",
       "      <td>-59.600609</td>\n",
       "      <td>espaloma 0.3.2</td>\n",
       "    </tr>\n",
       "    <tr>\n",
       "      <th>1</th>\n",
       "      <td>165.653763</td>\n",
       "      <td>-90.911217</td>\n",
       "      <td>espaloma 0.3.2</td>\n",
       "    </tr>\n",
       "    <tr>\n",
       "      <th>2</th>\n",
       "      <td>169.575684</td>\n",
       "      <td>-45.180138</td>\n",
       "      <td>espaloma 0.3.2</td>\n",
       "    </tr>\n",
       "    <tr>\n",
       "      <th>3</th>\n",
       "      <td>171.053314</td>\n",
       "      <td>-81.174210</td>\n",
       "      <td>espaloma 0.3.2</td>\n",
       "    </tr>\n",
       "    <tr>\n",
       "      <th>4</th>\n",
       "      <td>178.732422</td>\n",
       "      <td>-77.066246</td>\n",
       "      <td>espaloma 0.3.2</td>\n",
       "    </tr>\n",
       "    <tr>\n",
       "      <th>...</th>\n",
       "      <td>...</td>\n",
       "      <td>...</td>\n",
       "      <td>...</td>\n",
       "    </tr>\n",
       "    <tr>\n",
       "      <th>113995</th>\n",
       "      <td>106.270699</td>\n",
       "      <td>-14.893732</td>\n",
       "      <td>espaloma 0.3.2</td>\n",
       "    </tr>\n",
       "    <tr>\n",
       "      <th>113996</th>\n",
       "      <td>91.398323</td>\n",
       "      <td>-23.068172</td>\n",
       "      <td>espaloma 0.3.2</td>\n",
       "    </tr>\n",
       "    <tr>\n",
       "      <th>113997</th>\n",
       "      <td>85.656471</td>\n",
       "      <td>-32.431835</td>\n",
       "      <td>espaloma 0.3.2</td>\n",
       "    </tr>\n",
       "    <tr>\n",
       "      <th>113998</th>\n",
       "      <td>131.653381</td>\n",
       "      <td>-20.629881</td>\n",
       "      <td>espaloma 0.3.2</td>\n",
       "    </tr>\n",
       "    <tr>\n",
       "      <th>113999</th>\n",
       "      <td>87.041512</td>\n",
       "      <td>5.388793</td>\n",
       "      <td>espaloma 0.3.2</td>\n",
       "    </tr>\n",
       "  </tbody>\n",
       "</table>\n",
       "<p>114000 rows × 3 columns</p>\n",
       "</div>"
      ],
      "text/plain": [
       "               Phi        Psi              FF\n",
       "0       168.980804 -59.600609  espaloma 0.3.2\n",
       "1       165.653763 -90.911217  espaloma 0.3.2\n",
       "2       169.575684 -45.180138  espaloma 0.3.2\n",
       "3       171.053314 -81.174210  espaloma 0.3.2\n",
       "4       178.732422 -77.066246  espaloma 0.3.2\n",
       "...            ...        ...             ...\n",
       "113995  106.270699 -14.893732  espaloma 0.3.2\n",
       "113996   91.398323 -23.068172  espaloma 0.3.2\n",
       "113997   85.656471 -32.431835  espaloma 0.3.2\n",
       "113998  131.653381 -20.629881  espaloma 0.3.2\n",
       "113999   87.041512   5.388793  espaloma 0.3.2\n",
       "\n",
       "[114000 rows x 3 columns]"
      ]
     },
     "execution_count": 41,
     "metadata": {},
     "output_type": "execute_result"
    }
   ],
   "source": [
    "df_amb = pd.DataFrame()\n",
    "df_amb[\"Phi\"] = phi_deg_amb\n",
    "df_amb[\"Psi\"]= psi_deg_amb\n",
    "df_amb[\"FF\"]= \"Amber\"\n",
    "df_amb\n",
    "\n",
    "df_esp = pd.DataFrame()\n",
    "df_esp[\"Phi\"] = phi_deg_esp\n",
    "df_esp[\"Psi\"]= psi_deg_esp\n",
    "df_esp[\"FF\"]= \"espaloma 0.3.2\"\n",
    "df_esp"
   ]
  },
  {
   "cell_type": "code",
   "execution_count": 1,
   "metadata": {},
   "outputs": [],
   "source": [
    "# ónly 10 % for long espaloma simulations \n",
    "\n",
    "#subset_esp= df_esp.iloc[::10]\n",
    "#subset_esp.reset_index(drop=True, inplace=True)\n",
    "\n",
    "#full_df = pd.concat([df_amb, subset_esp])\n",
    "#full_df"
   ]
  },
  {
   "cell_type": "code",
   "execution_count": null,
   "metadata": {},
   "outputs": [],
   "source": [
    "full_df= pd.concat([df_amb, df_esp])"
   ]
  },
  {
   "cell_type": "code",
   "execution_count": null,
   "metadata": {},
   "outputs": [],
   "source": [
    "#adding in the crystal structure phi/psi combination \n",
    "\n",
    "dal_angle= [148.9, -158.2]\n",
    "phe_angle=[-151.7, 135.6]\n",
    "ftr_angle=[-144.2, 144.0]\n",
    "pro_angle=[-78.2, -6.4]\n",
    "thr_angle=[-148.2, 173-2]"
   ]
  },
  {
   "cell_type": "code",
   "execution_count": null,
   "metadata": {},
   "outputs": [],
   "source": [
    "f, ax = plt.subplots()\n",
    "\n",
    "kde_amb= sns.kdeplot(x=phi_deg_amb, y=psi_deg_amb, fill= True, label=\"AMBER\", alpha=0.5)\n",
    "kde_esp = sns.kdeplot(x=phi_deg_esp, y=psi_deg_esp, fill= True, label=\"espaloma\", alpha =0.5)\n",
    "plt.scatter(thr_angle[0], thr_angle[1], marker=\"x\", color=\"black\", s=50)\n",
    "\n",
    "\n",
    "#plt.suptitle(\"Thr 100 ns\")\n",
    "plt.suptitle(\"Thr 1 $\\mu$s\")\n",
    "plt.xlabel(\"Phi Angle ($\\Phi$) / degrees\")\n",
    "plt.ylabel(\"Psi Angle ($\\Psi$) / degrees\")\n",
    "plt.xlim(-180, 180)\n",
    "plt.ylim(-180,180)\n",
    "\n",
    "#ax.legend()\n",
    "#plt.legend()\n",
    "plt.tight_layout()\n",
    "plt.savefig(\"plots_newamber/Ramachandran_new/thr_1000\")"
   ]
  }
 ],
 "metadata": {
  "kernelspec": {
   "display_name": "openbiosim",
   "language": "python",
   "name": "python3"
  },
  "language_info": {
   "codemirror_mode": {
    "name": "ipython",
    "version": 3
   },
   "file_extension": ".py",
   "mimetype": "text/x-python",
   "name": "python",
   "nbconvert_exporter": "python",
   "pygments_lexer": "ipython3",
   "version": "3.9.18"
  },
  "orig_nbformat": 4
 },
 "nbformat": 4,
 "nbformat_minor": 2
}
