{
 "cells": [
  {
   "cell_type": "code",
   "execution_count": 2,
   "metadata": {},
   "outputs": [
    {
     "data": {
      "application/vnd.jupyter.widget-view+json": {
       "model_id": "ddcc119902a54d828c2eee024936298e",
       "version_major": 2,
       "version_minor": 0
      },
      "text/plain": []
     },
     "metadata": {},
     "output_type": "display_data"
    },
    {
     "name": "stderr",
     "output_type": "stream",
     "text": [
      "INFO:rdkit:Enabling RDKit 2023.03.3 jupyter extensions\n",
      "INFO:numexpr.utils:Note: NumExpr detected 20 cores but \"NUMEXPR_MAX_THREADS\" not set, so enforcing safe limit of 8.\n",
      "INFO:numexpr.utils:NumExpr defaulting to 8 threads.\n"
     ]
    }
   ],
   "source": [
    "import BioSimSpace as BSS\n",
    "import MDAnalysis as mda\n",
    "from MDAnalysis import Universe\n",
    "import MDAnalysis.analysis.encore as encore\n",
    "import matplotlib.pyplot as plt\n",
    "import numpy as np\n",
    "import seaborn as sns\n",
    "import pandas as pd"
   ]
  },
  {
   "cell_type": "code",
   "execution_count": 3,
   "metadata": {},
   "outputs": [],
   "source": [
    "#amber trajectories 100 ns \n",
    "u = mda.Universe(\"/pascal/data/project/100ns_prod_runs/prod_100ns_amber_lig_only_4000_1/amber_copy.parm7\", \"/pascal/data/project/100ns_prod_runs/prod_100ns_amber_lig_only_4000_1/amber.nc\")\n",
    "u_2 = mda.Universe(\"/pascal/data/project/100ns_prod_runs/prod_100ns_amber_lig_only_4000_2/amber_copy.parm7\", \"/pascal/data/project/100ns_prod_runs/prod_100ns_amber_lig_only_4000_2/amber.nc\")\n",
    "u_3 = mda.Universe(\"/pascal/data/project/100ns_prod_runs/prod_100ns_amber_lig_only_4000_3/amber_copy.parm7\", \"/pascal/data/project/100ns_prod_runs/prod_100ns_amber_lig_only_4000_3/amber.nc\")\n",
    "\n",
    "#espaloma traj\n",
    "u_4 = mda.Universe(\"/pascal/data/project/espaloma/prod_100ns_4000/amber_copy.parm7\", \"/pascal/data/project/espaloma/prod_100ns_4000/amber.nc\")\n",
    "u_5 = mda.Universe(\"/pascal/data/project/espaloma/prod_100ns_4000_2/amber_copy.parm7\", \"/pascal/data/project/espaloma/prod_100ns_4000_2/amber.nc\")\n",
    "u_6 = mda.Universe(\"/pascal/data/project/espaloma/prod_100ns_4000_3/amber_copy.parm7\", \"/pascal/data/project/espaloma/prod_100ns_4000_3/amber.nc\")"
   ]
  },
  {
   "cell_type": "code",
   "execution_count": 2,
   "metadata": {},
   "outputs": [],
   "source": [
    "#amber trajectories 1000 ns\n",
    "u_7 = mda.Universe(\"/pascal/data/project/prod_runs/prod_1000ns_amber_lig_only_4000_1/amber_copy.parm7\", \"/pascal/data/project/prod_runs/prod_1000ns_amber_lig_only_4000_1/amber.nc\")\n",
    "u_8 = mda.Universe(\"/pascal/data/project/prod_runs/prod_1000ns_amber_lig_only_4000_2/amber_copy.parm7\", \"/pascal/data/project/prod_runs/prod_1000ns_amber_lig_only_4000_2/amber.nc\")\n",
    "u_9 = mda.Universe(\"/pascal/data/project/prod_runs/prod_1000ns_amber_lig_only_4000_3/amber_copy.parm7\", \"/pascal/data/project/prod_runs/prod_1000ns_amber_lig_only_4000_3/amber.nc\")\n",
    "\n",
    "#espaloma traj\n",
    "u_10 = mda.Universe(\"/pascal/data/project/espaloma/prod_1000ns_40000/amber_copy.parm7\", \"/pascal/data/project/espaloma/prod_1000ns_40000/amber.nc\")\n",
    "u_11= mda.Universe(\"/pascal/data/project/espaloma/prod_1000ns_40000_2/amber_copy.parm7\", \"/pascal/data/project/espaloma/prod_1000ns_40000_2/amber.nc\")\n",
    "u_12 = mda.Universe(\"/pascal/data/project/espaloma/prod_1000ns_40000_3/amber_copy.parm7\", \"/pascal/data/project/espaloma/prod_1000ns_40000_3/amber.nc\")"
   ]
  },
  {
   "cell_type": "code",
   "execution_count": null,
   "metadata": {},
   "outputs": [],
   "source": [
    "#for espaloma 1000 ns trajs, only 10 % to be analsed \n",
    "atoms_10=u_10.atoms\n",
    "u_10_10th= mda.Merge(atoms_10)\n",
    "with mda.Writer(\"traj_10_10th.dcd\", n_atoms=len(atoms_10)) as writer:\n",
    "    for ts in u_10.trajectory[::10]:\n",
    "        writer.write(atoms_10)\n",
    "\n",
    "\n",
    "atoms_11=u_11.atoms\n",
    "u_11_10th= mda.Merge(atoms_11)\n",
    "with mda.Writer(\"traj_11_10th.dcd\", n_atoms=len(atoms_11)) as writer:\n",
    "    for ts in u_11.trajectory[::10]:\n",
    "        writer.write(atoms_11)\n",
    "\n",
    "\n",
    "atoms_12=u_12.atoms\n",
    "u_12_10th= mda.Merge(atoms_12)\n",
    "with mda.Writer(\"traj_12_10th.dcd\", n_atoms=len(atoms_12)) as writer:\n",
    "    for ts in u_12.trajectory[::10]:\n",
    "        writer.write(atoms_12)"
   ]
  },
  {
   "cell_type": "code",
   "execution_count": null,
   "metadata": {},
   "outputs": [],
   "source": [
    "u_10 = mda.Universe(\"/pascal/data/project/espaloma/prod_1000ns_40000/amber_copy.parm7\", \"traj_10_10th.dcd\")\n",
    "u_11= mda.Universe(\"/pascal/data/project/espaloma/prod_1000ns_40000_2/amber_copy.parm7\", \"traj_11_10th.dcd\")\n",
    "u_12 = mda.Universe(\"/pascal/data/project/espaloma/prod_1000ns_40000_3/amber_copy.parm7\", \"traj_12_10th.dcd\")"
   ]
  },
  {
   "cell_type": "markdown",
   "metadata": {},
   "source": [
    "Setting off clustering analysis"
   ]
  },
  {
   "cell_type": "code",
   "execution_count": 4,
   "metadata": {},
   "outputs": [
    {
     "name": "stderr",
     "output_type": "stream",
     "text": [
      "INFO:root:        Perform pairwise alignment: True\n",
      "INFO:root:        weighted alignment and RMSD: Mass\n",
      "INFO:root:        Atoms subset for alignment: name CA\n",
      "INFO:root:    Calculating similarity matrix . . .\n"
     ]
    }
   ],
   "source": [
    "cluster_collection_amb100= encore.cluster([u, u_2, u_3],select=\"name N\", ncores=18)"
   ]
  },
  {
   "cell_type": "code",
   "execution_count": null,
   "metadata": {},
   "outputs": [],
   "source": [
    "df_amb100 = pd.DataFrame(cluster_collection_amb100)\n",
    "df_amb100.to_csv(\"clustering/amber_100\")"
   ]
  },
  {
   "cell_type": "code",
   "execution_count": null,
   "metadata": {},
   "outputs": [],
   "source": [
    "#accessing info on the centroids\n",
    "cluster_test= cluster_collection_amb100.clusters\n",
    "\n",
    "with open (\"amb_centroids_100.txt\", \"w\")as file:\n",
    "    for item in cluster_test:\n",
    "        file.write(str(item)+\"\\n\")"
   ]
  },
  {
   "cell_type": "code",
   "execution_count": 3,
   "metadata": {},
   "outputs": [
    {
     "name": "stderr",
     "output_type": "stream",
     "text": [
      "INFO:root:        Perform pairwise alignment: True\n",
      "INFO:root:        weighted alignment and RMSD: Mass\n",
      "INFO:root:        Atoms subset for alignment: name CA\n",
      "INFO:root:    Calculating similarity matrix . . .\n",
      "INFO:root:    Done!\n",
      "INFO:root:Preference -1.00: starting Affinity Propagation\n",
      "INFO:root:Preference -1.00: converged in 220 iterations\n"
     ]
    }
   ],
   "source": [
    "cluster_collection_esp100= encore.cluster([u_4, u_5, u_6], select=\"name N\", ncores=18)"
   ]
  },
  {
   "cell_type": "code",
   "execution_count": 4,
   "metadata": {},
   "outputs": [],
   "source": [
    "df_esp100 = pd.DataFrame(cluster_collection_esp100)\n",
    "df_esp100.to_csv(\"clustering/esp_100\")"
   ]
  },
  {
   "cell_type": "code",
   "execution_count": null,
   "metadata": {},
   "outputs": [],
   "source": [
    "#accessing info on the centroids\n",
    "cluster_test= cluster_collection_esp100.clusters\n",
    "\n",
    "with open (\"esp_centroids_100.txt\", \"w\")as file:\n",
    "    for item in cluster_test:\n",
    "        file.write(str(item)+\"\\n\")"
   ]
  },
  {
   "cell_type": "code",
   "execution_count": null,
   "metadata": {},
   "outputs": [],
   "source": [
    "cluster_collection_amb1000= encore.cluster([u_7, u_8, u_9], select=\"name N\", ncores=18)"
   ]
  },
  {
   "cell_type": "code",
   "execution_count": null,
   "metadata": {},
   "outputs": [],
   "source": [
    "df_amb1000 = pd.DataFrame(cluster_collection_amb1000)\n",
    "df_amb1000.to_csv(\"clustering/amber_1000\")"
   ]
  },
  {
   "cell_type": "code",
   "execution_count": null,
   "metadata": {},
   "outputs": [],
   "source": [
    "#accessing info on the centroids\n",
    "cluster_test= cluster_collection_amb1000.clusters\n",
    "\n",
    "with open (\"amb_centroids_1000.txt\", \"w\")as file:\n",
    "    for item in cluster_test:\n",
    "        file.write(str(item)+\"\\n\")"
   ]
  },
  {
   "cell_type": "code",
   "execution_count": 3,
   "metadata": {},
   "outputs": [
    {
     "name": "stderr",
     "output_type": "stream",
     "text": [
      "INFO:root:        Perform pairwise alignment: True\n",
      "INFO:root:        weighted alignment and RMSD: Mass\n",
      "INFO:root:        Atoms subset for alignment: name CA\n",
      "INFO:root:    Calculating similarity matrix . . .\n"
     ]
    }
   ],
   "source": [
    "cluster_collection_esp1000= encore.cluster([u_10, u_11, u_12], select=\"name N\", ncores=18)"
   ]
  },
  {
   "cell_type": "code",
   "execution_count": null,
   "metadata": {},
   "outputs": [
    {
     "data": {
      "text/html": [
       "<pre style=\"white-space:pre;overflow-x:auto;line-height:normal;font-family:Menlo,'DejaVu Sans Mono',consolas,'Courier New',monospace\"><span style=\"color: #800000; text-decoration-color: #800000\">╭─────────────────────────────── </span><span style=\"color: #800000; text-decoration-color: #800000; font-weight: bold\">Traceback </span><span style=\"color: #bf7f7f; text-decoration-color: #bf7f7f; font-weight: bold\">(most recent call last)</span><span style=\"color: #800000; text-decoration-color: #800000\"> ────────────────────────────────╮</span>\n",
       "<span style=\"color: #800000; text-decoration-color: #800000\">│</span> in <span style=\"color: #00ff00; text-decoration-color: #00ff00\">&lt;module&gt;</span>:<span style=\"color: #0000ff; text-decoration-color: #0000ff\">1</span>                                                                                    <span style=\"color: #800000; text-decoration-color: #800000\">│</span>\n",
       "<span style=\"color: #800000; text-decoration-color: #800000\">│</span>                                                                                                  <span style=\"color: #800000; text-decoration-color: #800000\">│</span>\n",
       "<span style=\"color: #800000; text-decoration-color: #800000\">│</span> <span style=\"color: #800000; text-decoration-color: #800000\">❱ </span>1 df_esp1000 = pd.DataFrame(cluster_collection_esp1000)                                        <span style=\"color: #800000; text-decoration-color: #800000\">│</span>\n",
       "<span style=\"color: #800000; text-decoration-color: #800000\">│</span>   <span style=\"color: #7f7f7f; text-decoration-color: #7f7f7f\">2 </span>df_esp1000.to_csv(<span style=\"color: #808000; text-decoration-color: #808000\">\"clustering/esp_1000\"</span>)                                                     <span style=\"color: #800000; text-decoration-color: #800000\">│</span>\n",
       "<span style=\"color: #800000; text-decoration-color: #800000\">│</span>   <span style=\"color: #7f7f7f; text-decoration-color: #7f7f7f\">3 </span>                                                                                             <span style=\"color: #800000; text-decoration-color: #800000\">│</span>\n",
       "<span style=\"color: #800000; text-decoration-color: #800000\">╰──────────────────────────────────────────────────────────────────────────────────────────────────╯</span>\n",
       "<span style=\"color: #ff0000; text-decoration-color: #ff0000; font-weight: bold\">NameError: </span>name <span style=\"color: #008000; text-decoration-color: #008000\">'cluster_collection_esp1000'</span> is not defined\n",
       "</pre>\n"
      ],
      "text/plain": [
       "\u001b[31m╭─\u001b[0m\u001b[31m──────────────────────────────\u001b[0m\u001b[31m \u001b[0m\u001b[1;31mTraceback \u001b[0m\u001b[1;2;31m(most recent call last)\u001b[0m\u001b[31m \u001b[0m\u001b[31m───────────────────────────────\u001b[0m\u001b[31m─╮\u001b[0m\n",
       "\u001b[31m│\u001b[0m in \u001b[92m<module>\u001b[0m:\u001b[94m1\u001b[0m                                                                                    \u001b[31m│\u001b[0m\n",
       "\u001b[31m│\u001b[0m                                                                                                  \u001b[31m│\u001b[0m\n",
       "\u001b[31m│\u001b[0m \u001b[31m❱ \u001b[0m1 df_esp1000 = pd.DataFrame(cluster_collection_esp1000)                                        \u001b[31m│\u001b[0m\n",
       "\u001b[31m│\u001b[0m   \u001b[2m2 \u001b[0mdf_esp1000.to_csv(\u001b[33m\"\u001b[0m\u001b[33mclustering/esp_1000\u001b[0m\u001b[33m\"\u001b[0m)                                                     \u001b[31m│\u001b[0m\n",
       "\u001b[31m│\u001b[0m   \u001b[2m3 \u001b[0m                                                                                             \u001b[31m│\u001b[0m\n",
       "\u001b[31m╰──────────────────────────────────────────────────────────────────────────────────────────────────╯\u001b[0m\n",
       "\u001b[1;91mNameError: \u001b[0mname \u001b[32m'cluster_collection_esp1000'\u001b[0m is not defined\n"
      ]
     },
     "metadata": {},
     "output_type": "display_data"
    }
   ],
   "source": [
    "df_esp1000_1 = pd.DataFrame(cluster_collection_esp1000)\n",
    "df_esp1000_1.to_csv(\"clustering/esp_1000_1\")"
   ]
  },
  {
   "cell_type": "code",
   "execution_count": null,
   "metadata": {},
   "outputs": [],
   "source": [
    "#accessing info on the centroids\n",
    "cluster_test= cluster_collection_esp1000.clusters\n",
    "\n",
    "with open (\"esp_centroids_1000.txt\", \"w\")as file:\n",
    "    for item in cluster_test:\n",
    "        file.write(str(item)+\"\\n\")"
   ]
  },
  {
   "cell_type": "markdown",
   "metadata": {},
   "source": [
    "Analysing clusters and centroids"
   ]
  },
  {
   "cell_type": "code",
   "execution_count": 6,
   "metadata": {},
   "outputs": [
    {
     "data": {
      "text/html": [
       "<div>\n",
       "<style scoped>\n",
       "    .dataframe tbody tr th:only-of-type {\n",
       "        vertical-align: middle;\n",
       "    }\n",
       "\n",
       "    .dataframe tbody tr th {\n",
       "        vertical-align: top;\n",
       "    }\n",
       "\n",
       "    .dataframe thead th {\n",
       "        text-align: right;\n",
       "    }\n",
       "</style>\n",
       "<table border=\"1\" class=\"dataframe\">\n",
       "  <thead>\n",
       "    <tr style=\"text-align: right;\">\n",
       "      <th></th>\n",
       "      <th>Unnamed: 0</th>\n",
       "      <th>0</th>\n",
       "      <th>1</th>\n",
       "      <th>2</th>\n",
       "      <th>3</th>\n",
       "      <th>4</th>\n",
       "      <th>5</th>\n",
       "      <th>6</th>\n",
       "      <th>7</th>\n",
       "      <th>8</th>\n",
       "      <th>...</th>\n",
       "      <th>39</th>\n",
       "      <th>40</th>\n",
       "      <th>41</th>\n",
       "      <th>42</th>\n",
       "      <th>43</th>\n",
       "      <th>44</th>\n",
       "      <th>45</th>\n",
       "      <th>46</th>\n",
       "      <th>47</th>\n",
       "      <th>48</th>\n",
       "    </tr>\n",
       "  </thead>\n",
       "  <tbody>\n",
       "    <tr>\n",
       "      <th>0</th>\n",
       "      <td>0</td>\n",
       "      <td>1</td>\n",
       "      <td>NaN</td>\n",
       "      <td>NaN</td>\n",
       "      <td>NaN</td>\n",
       "      <td>NaN</td>\n",
       "      <td>NaN</td>\n",
       "      <td>NaN</td>\n",
       "      <td>NaN</td>\n",
       "      <td>NaN</td>\n",
       "      <td>...</td>\n",
       "      <td>NaN</td>\n",
       "      <td>NaN</td>\n",
       "      <td>NaN</td>\n",
       "      <td>NaN</td>\n",
       "      <td>NaN</td>\n",
       "      <td>NaN</td>\n",
       "      <td>NaN</td>\n",
       "      <td>NaN</td>\n",
       "      <td>NaN</td>\n",
       "      <td>NaN</td>\n",
       "    </tr>\n",
       "    <tr>\n",
       "      <th>1</th>\n",
       "      <td>1</td>\n",
       "      <td>2</td>\n",
       "      <td>3.0</td>\n",
       "      <td>5.0</td>\n",
       "      <td>6.0</td>\n",
       "      <td>7.0</td>\n",
       "      <td>NaN</td>\n",
       "      <td>NaN</td>\n",
       "      <td>NaN</td>\n",
       "      <td>NaN</td>\n",
       "      <td>...</td>\n",
       "      <td>NaN</td>\n",
       "      <td>NaN</td>\n",
       "      <td>NaN</td>\n",
       "      <td>NaN</td>\n",
       "      <td>NaN</td>\n",
       "      <td>NaN</td>\n",
       "      <td>NaN</td>\n",
       "      <td>NaN</td>\n",
       "      <td>NaN</td>\n",
       "      <td>NaN</td>\n",
       "    </tr>\n",
       "    <tr>\n",
       "      <th>2</th>\n",
       "      <td>2</td>\n",
       "      <td>0</td>\n",
       "      <td>4.0</td>\n",
       "      <td>8.0</td>\n",
       "      <td>9.0</td>\n",
       "      <td>11.0</td>\n",
       "      <td>12.0</td>\n",
       "      <td>NaN</td>\n",
       "      <td>NaN</td>\n",
       "      <td>NaN</td>\n",
       "      <td>...</td>\n",
       "      <td>NaN</td>\n",
       "      <td>NaN</td>\n",
       "      <td>NaN</td>\n",
       "      <td>NaN</td>\n",
       "      <td>NaN</td>\n",
       "      <td>NaN</td>\n",
       "      <td>NaN</td>\n",
       "      <td>NaN</td>\n",
       "      <td>NaN</td>\n",
       "      <td>NaN</td>\n",
       "    </tr>\n",
       "    <tr>\n",
       "      <th>3</th>\n",
       "      <td>3</td>\n",
       "      <td>13</td>\n",
       "      <td>4022.0</td>\n",
       "      <td>NaN</td>\n",
       "      <td>NaN</td>\n",
       "      <td>NaN</td>\n",
       "      <td>NaN</td>\n",
       "      <td>NaN</td>\n",
       "      <td>NaN</td>\n",
       "      <td>NaN</td>\n",
       "      <td>...</td>\n",
       "      <td>NaN</td>\n",
       "      <td>NaN</td>\n",
       "      <td>NaN</td>\n",
       "      <td>NaN</td>\n",
       "      <td>NaN</td>\n",
       "      <td>NaN</td>\n",
       "      <td>NaN</td>\n",
       "      <td>NaN</td>\n",
       "      <td>NaN</td>\n",
       "      <td>NaN</td>\n",
       "    </tr>\n",
       "    <tr>\n",
       "      <th>4</th>\n",
       "      <td>4</td>\n",
       "      <td>15</td>\n",
       "      <td>36.0</td>\n",
       "      <td>4090.0</td>\n",
       "      <td>5316.0</td>\n",
       "      <td>5343.0</td>\n",
       "      <td>5369.0</td>\n",
       "      <td>5370.0</td>\n",
       "      <td>NaN</td>\n",
       "      <td>NaN</td>\n",
       "      <td>...</td>\n",
       "      <td>NaN</td>\n",
       "      <td>NaN</td>\n",
       "      <td>NaN</td>\n",
       "      <td>NaN</td>\n",
       "      <td>NaN</td>\n",
       "      <td>NaN</td>\n",
       "      <td>NaN</td>\n",
       "      <td>NaN</td>\n",
       "      <td>NaN</td>\n",
       "      <td>NaN</td>\n",
       "    </tr>\n",
       "    <tr>\n",
       "      <th>...</th>\n",
       "      <td>...</td>\n",
       "      <td>...</td>\n",
       "      <td>...</td>\n",
       "      <td>...</td>\n",
       "      <td>...</td>\n",
       "      <td>...</td>\n",
       "      <td>...</td>\n",
       "      <td>...</td>\n",
       "      <td>...</td>\n",
       "      <td>...</td>\n",
       "      <td>...</td>\n",
       "      <td>...</td>\n",
       "      <td>...</td>\n",
       "      <td>...</td>\n",
       "      <td>...</td>\n",
       "      <td>...</td>\n",
       "      <td>...</td>\n",
       "      <td>...</td>\n",
       "      <td>...</td>\n",
       "      <td>...</td>\n",
       "      <td>...</td>\n",
       "    </tr>\n",
       "    <tr>\n",
       "      <th>816</th>\n",
       "      <td>816</td>\n",
       "      <td>11958</td>\n",
       "      <td>11961.0</td>\n",
       "      <td>11967.0</td>\n",
       "      <td>NaN</td>\n",
       "      <td>NaN</td>\n",
       "      <td>NaN</td>\n",
       "      <td>NaN</td>\n",
       "      <td>NaN</td>\n",
       "      <td>NaN</td>\n",
       "      <td>...</td>\n",
       "      <td>NaN</td>\n",
       "      <td>NaN</td>\n",
       "      <td>NaN</td>\n",
       "      <td>NaN</td>\n",
       "      <td>NaN</td>\n",
       "      <td>NaN</td>\n",
       "      <td>NaN</td>\n",
       "      <td>NaN</td>\n",
       "      <td>NaN</td>\n",
       "      <td>NaN</td>\n",
       "    </tr>\n",
       "    <tr>\n",
       "      <th>817</th>\n",
       "      <td>817</td>\n",
       "      <td>11895</td>\n",
       "      <td>11940.0</td>\n",
       "      <td>11946.0</td>\n",
       "      <td>11956.0</td>\n",
       "      <td>11959.0</td>\n",
       "      <td>11960.0</td>\n",
       "      <td>11962.0</td>\n",
       "      <td>11963.0</td>\n",
       "      <td>11965.0</td>\n",
       "      <td>...</td>\n",
       "      <td>NaN</td>\n",
       "      <td>NaN</td>\n",
       "      <td>NaN</td>\n",
       "      <td>NaN</td>\n",
       "      <td>NaN</td>\n",
       "      <td>NaN</td>\n",
       "      <td>NaN</td>\n",
       "      <td>NaN</td>\n",
       "      <td>NaN</td>\n",
       "      <td>NaN</td>\n",
       "    </tr>\n",
       "    <tr>\n",
       "      <th>818</th>\n",
       "      <td>818</td>\n",
       "      <td>11889</td>\n",
       "      <td>11978.0</td>\n",
       "      <td>11980.0</td>\n",
       "      <td>11981.0</td>\n",
       "      <td>11985.0</td>\n",
       "      <td>11986.0</td>\n",
       "      <td>NaN</td>\n",
       "      <td>NaN</td>\n",
       "      <td>NaN</td>\n",
       "      <td>...</td>\n",
       "      <td>NaN</td>\n",
       "      <td>NaN</td>\n",
       "      <td>NaN</td>\n",
       "      <td>NaN</td>\n",
       "      <td>NaN</td>\n",
       "      <td>NaN</td>\n",
       "      <td>NaN</td>\n",
       "      <td>NaN</td>\n",
       "      <td>NaN</td>\n",
       "      <td>NaN</td>\n",
       "    </tr>\n",
       "    <tr>\n",
       "      <th>819</th>\n",
       "      <td>819</td>\n",
       "      <td>10576</td>\n",
       "      <td>10608.0</td>\n",
       "      <td>11887.0</td>\n",
       "      <td>11977.0</td>\n",
       "      <td>11979.0</td>\n",
       "      <td>11982.0</td>\n",
       "      <td>11987.0</td>\n",
       "      <td>NaN</td>\n",
       "      <td>NaN</td>\n",
       "      <td>...</td>\n",
       "      <td>NaN</td>\n",
       "      <td>NaN</td>\n",
       "      <td>NaN</td>\n",
       "      <td>NaN</td>\n",
       "      <td>NaN</td>\n",
       "      <td>NaN</td>\n",
       "      <td>NaN</td>\n",
       "      <td>NaN</td>\n",
       "      <td>NaN</td>\n",
       "      <td>NaN</td>\n",
       "    </tr>\n",
       "    <tr>\n",
       "      <th>820</th>\n",
       "      <td>820</td>\n",
       "      <td>10652</td>\n",
       "      <td>11884.0</td>\n",
       "      <td>11885.0</td>\n",
       "      <td>11888.0</td>\n",
       "      <td>11992.0</td>\n",
       "      <td>11997.0</td>\n",
       "      <td>NaN</td>\n",
       "      <td>NaN</td>\n",
       "      <td>NaN</td>\n",
       "      <td>...</td>\n",
       "      <td>NaN</td>\n",
       "      <td>NaN</td>\n",
       "      <td>NaN</td>\n",
       "      <td>NaN</td>\n",
       "      <td>NaN</td>\n",
       "      <td>NaN</td>\n",
       "      <td>NaN</td>\n",
       "      <td>NaN</td>\n",
       "      <td>NaN</td>\n",
       "      <td>NaN</td>\n",
       "    </tr>\n",
       "  </tbody>\n",
       "</table>\n",
       "<p>821 rows × 50 columns</p>\n",
       "</div>"
      ],
      "text/plain": [
       "     Unnamed: 0      0        1        2        3        4        5        6  \\\n",
       "0             0      1      NaN      NaN      NaN      NaN      NaN      NaN   \n",
       "1             1      2      3.0      5.0      6.0      7.0      NaN      NaN   \n",
       "2             2      0      4.0      8.0      9.0     11.0     12.0      NaN   \n",
       "3             3     13   4022.0      NaN      NaN      NaN      NaN      NaN   \n",
       "4             4     15     36.0   4090.0   5316.0   5343.0   5369.0   5370.0   \n",
       "..          ...    ...      ...      ...      ...      ...      ...      ...   \n",
       "816         816  11958  11961.0  11967.0      NaN      NaN      NaN      NaN   \n",
       "817         817  11895  11940.0  11946.0  11956.0  11959.0  11960.0  11962.0   \n",
       "818         818  11889  11978.0  11980.0  11981.0  11985.0  11986.0      NaN   \n",
       "819         819  10576  10608.0  11887.0  11977.0  11979.0  11982.0  11987.0   \n",
       "820         820  10652  11884.0  11885.0  11888.0  11992.0  11997.0      NaN   \n",
       "\n",
       "           7        8  ...  39  40  41  42  43  44  45  46  47  48  \n",
       "0        NaN      NaN  ... NaN NaN NaN NaN NaN NaN NaN NaN NaN NaN  \n",
       "1        NaN      NaN  ... NaN NaN NaN NaN NaN NaN NaN NaN NaN NaN  \n",
       "2        NaN      NaN  ... NaN NaN NaN NaN NaN NaN NaN NaN NaN NaN  \n",
       "3        NaN      NaN  ... NaN NaN NaN NaN NaN NaN NaN NaN NaN NaN  \n",
       "4        NaN      NaN  ... NaN NaN NaN NaN NaN NaN NaN NaN NaN NaN  \n",
       "..       ...      ...  ...  ..  ..  ..  ..  ..  ..  ..  ..  ..  ..  \n",
       "816      NaN      NaN  ... NaN NaN NaN NaN NaN NaN NaN NaN NaN NaN  \n",
       "817  11963.0  11965.0  ... NaN NaN NaN NaN NaN NaN NaN NaN NaN NaN  \n",
       "818      NaN      NaN  ... NaN NaN NaN NaN NaN NaN NaN NaN NaN NaN  \n",
       "819      NaN      NaN  ... NaN NaN NaN NaN NaN NaN NaN NaN NaN NaN  \n",
       "820      NaN      NaN  ... NaN NaN NaN NaN NaN NaN NaN NaN NaN NaN  \n",
       "\n",
       "[821 rows x 50 columns]"
      ]
     },
     "execution_count": 6,
     "metadata": {},
     "output_type": "execute_result"
    }
   ],
   "source": [
    "cluster_esp100= pd.read_csv(\"clustering/esp_100\")\n",
    "cluster_esp100"
   ]
  },
  {
   "cell_type": "code",
   "execution_count": 24,
   "metadata": {},
   "outputs": [
    {
     "name": "stdout",
     "output_type": "stream",
     "text": [
      "     row idx  nan_count\n",
      "62        62          0\n",
      "197      197          2\n",
      "199      199          8\n",
      "22        22          8\n",
      "313      313          9\n",
      "..       ...        ...\n",
      "104      104         47\n",
      "376      376         47\n",
      "0          0         48\n",
      "637      637         48\n",
      "270      270         48\n",
      "\n",
      "[821 rows x 2 columns]\n"
     ]
    }
   ],
   "source": [
    "#df sorted with least nan values\n",
    "nan_per_row= cluster_esp100.isna().sum(axis=1)\n",
    "nan_counts_df = pd.DataFrame({\"row idx\":cluster_esp100.index, \"nan_count\":nan_per_row})\n",
    "sorted_nan_df= nan_counts_df.sort_values(by= \"nan_count\")\n",
    "print(sorted_nan_df)"
   ]
  },
  {
   "cell_type": "code",
   "execution_count": 32,
   "metadata": {},
   "outputs": [
    {
     "name": "stdout",
     "output_type": "stream",
     "text": [
      "Unnamed: 0     197.0\n",
      "0               89.0\n",
      "1               93.0\n",
      "2              130.0\n",
      "3              138.0\n",
      "4              158.0\n",
      "5              169.0\n",
      "6              174.0\n",
      "7              243.0\n",
      "8              291.0\n",
      "9              297.0\n",
      "10             366.0\n",
      "11             420.0\n",
      "12             450.0\n",
      "13             459.0\n",
      "14             460.0\n",
      "15             494.0\n",
      "16             511.0\n",
      "17             566.0\n",
      "18             624.0\n",
      "19             637.0\n",
      "20             649.0\n",
      "21             655.0\n",
      "22             669.0\n",
      "23             672.0\n",
      "24             739.0\n",
      "25             765.0\n",
      "26             774.0\n",
      "27             775.0\n",
      "28             798.0\n",
      "29             865.0\n",
      "30             905.0\n",
      "31             914.0\n",
      "32             950.0\n",
      "33             955.0\n",
      "34             962.0\n",
      "35             972.0\n",
      "36             988.0\n",
      "37            3356.0\n",
      "38            3366.0\n",
      "39            3367.0\n",
      "40            3370.0\n",
      "41            4258.0\n",
      "42            4260.0\n",
      "43            4262.0\n",
      "44            4275.0\n",
      "45            4283.0\n",
      "46            5395.0\n",
      "47               NaN\n",
      "48               NaN\n",
      "Name: 197, dtype: float64\n",
      "5395.0\n"
     ]
    }
   ],
   "source": [
    "#printing rows with most members in clusters\n",
    "row_index=197\n",
    "row_data= cluster_esp100.iloc[row_index]\n",
    "\n",
    "print(row_data)\n",
    "\n",
    "print(max(row_data))"
   ]
  },
  {
   "cell_type": "code",
   "execution_count": 17,
   "metadata": {},
   "outputs": [
    {
     "name": "stdout",
     "output_type": "stream",
     "text": [
      "[<Cluster with 1 elements, centroid=1, id=0>, <Cluster with 5 elements, centroid=7, id=1>, <Cluster with 6 elements, centroid=12, id=2>, <Cluster with 2 elements, centroid=13, id=3>, <Cluster with 7 elements, centroid=15, id=4>, <Cluster with 6 elements, centroid=42, id=5>, <Cluster with 10 elements, centroid=50, id=6>, <Cluster with 18 elements, centroid=51, id=7>, <Cluster with 11 elements, centroid=60, id=8>, <Cluster with 19 elements, centroid=75, id=9>, <Cluster with 25 elements, centroid=85, id=10>, <Cluster with 30 elements, centroid=98, id=11>, <Cluster with 26 elements, centroid=118, id=12>, <Cluster with 23 elements, centroid=129, id=13>, <Cluster with 7 elements, centroid=147, id=14>, <Cluster with 16 elements, centroid=202, id=15>, <Cluster with 22 elements, centroid=221, id=16>, <Cluster with 19 elements, centroid=255, id=17>, <Cluster with 19 elements, centroid=274, id=18>, <Cluster with 18 elements, centroid=277, id=19>, <Cluster with 5 elements, centroid=280, id=20>, <Cluster with 24 elements, centroid=322, id=21>, <Cluster with 41 elements, centroid=336, id=22>, <Cluster with 28 elements, centroid=380, id=23>, <Cluster with 12 elements, centroid=405, id=24>, <Cluster with 14 elements, centroid=408, id=25>, <Cluster with 18 elements, centroid=414, id=26>, <Cluster with 11 elements, centroid=425, id=27>, <Cluster with 18 elements, centroid=525, id=28>, <Cluster with 21 elements, centroid=536, id=29>, <Cluster with 30 elements, centroid=546, id=30>, <Cluster with 11 elements, centroid=570, id=31>, <Cluster with 23 elements, centroid=596, id=32>, <Cluster with 37 elements, centroid=599, id=33>, <Cluster with 28 elements, centroid=604, id=34>, <Cluster with 25 elements, centroid=629, id=35>, <Cluster with 25 elements, centroid=650, id=36>, <Cluster with 37 elements, centroid=668, id=37>, <Cluster with 14 elements, centroid=679, id=38>, <Cluster with 39 elements, centroid=683, id=39>, <Cluster with 28 elements, centroid=692, id=40>, <Cluster with 15 elements, centroid=726, id=41>, <Cluster with 33 elements, centroid=730, id=42>, <Cluster with 15 elements, centroid=747, id=43>, <Cluster with 29 elements, centroid=751, id=44>, <Cluster with 12 elements, centroid=770, id=45>, <Cluster with 32 elements, centroid=787, id=46>, <Cluster with 13 elements, centroid=811, id=47>, <Cluster with 19 elements, centroid=824, id=48>, <Cluster with 16 elements, centroid=839, id=49>, <Cluster with 23 elements, centroid=845, id=50>, <Cluster with 29 elements, centroid=859, id=51>, <Cluster with 21 elements, centroid=875, id=52>, <Cluster with 23 elements, centroid=911, id=53>, <Cluster with 17 elements, centroid=917, id=54>, <Cluster with 27 elements, centroid=946, id=55>, <Cluster with 29 elements, centroid=964, id=56>, <Cluster with 15 elements, centroid=1019, id=57>, <Cluster with 18 elements, centroid=1021, id=58>, <Cluster with 15 elements, centroid=1026, id=59>, <Cluster with 29 elements, centroid=1052, id=60>, <Cluster with 11 elements, centroid=1061, id=61>, <Cluster with 49 elements, centroid=1090, id=62>, <Cluster with 22 elements, centroid=1113, id=63>, <Cluster with 21 elements, centroid=1155, id=64>, <Cluster with 33 elements, centroid=1160, id=65>, <Cluster with 33 elements, centroid=1164, id=66>, <Cluster with 24 elements, centroid=1173, id=67>, <Cluster with 13 elements, centroid=1200, id=68>, <Cluster with 18 elements, centroid=1218, id=69>, <Cluster with 33 elements, centroid=1246, id=70>, <Cluster with 26 elements, centroid=1303, id=71>, <Cluster with 30 elements, centroid=1314, id=72>, <Cluster with 30 elements, centroid=1349, id=73>, <Cluster with 25 elements, centroid=1379, id=74>, <Cluster with 30 elements, centroid=1382, id=75>, <Cluster with 23 elements, centroid=1397, id=76>, <Cluster with 16 elements, centroid=1430, id=77>, <Cluster with 8 elements, centroid=1457, id=78>, <Cluster with 23 elements, centroid=1464, id=79>, <Cluster with 21 elements, centroid=1496, id=80>, <Cluster with 23 elements, centroid=1509, id=81>, <Cluster with 15 elements, centroid=1513, id=82>, <Cluster with 6 elements, centroid=1523, id=83>, <Cluster with 19 elements, centroid=1538, id=84>, <Cluster with 23 elements, centroid=1539, id=85>, <Cluster with 10 elements, centroid=1564, id=86>, <Cluster with 31 elements, centroid=1576, id=87>, <Cluster with 16 elements, centroid=1585, id=88>, <Cluster with 9 elements, centroid=1597, id=89>, <Cluster with 19 elements, centroid=1603, id=90>, <Cluster with 28 elements, centroid=1623, id=91>, <Cluster with 11 elements, centroid=1649, id=92>, <Cluster with 6 elements, centroid=1650, id=93>, <Cluster with 15 elements, centroid=1653, id=94>, <Cluster with 9 elements, centroid=1701, id=95>, <Cluster with 15 elements, centroid=1720, id=96>, <Cluster with 16 elements, centroid=1721, id=97>, <Cluster with 22 elements, centroid=1808, id=98>, <Cluster with 24 elements, centroid=1816, id=99>, <Cluster with 17 elements, centroid=1817, id=100>, <Cluster with 12 elements, centroid=1862, id=101>, <Cluster with 24 elements, centroid=1894, id=102>, <Cluster with 11 elements, centroid=1903, id=103>, <Cluster with 2 elements, centroid=1907, id=104>, <Cluster with 2 elements, centroid=1909, id=105>, <Cluster with 30 elements, centroid=1940, id=106>, <Cluster with 24 elements, centroid=1960, id=107>, <Cluster with 24 elements, centroid=1967, id=108>, <Cluster with 12 elements, centroid=1969, id=109>, <Cluster with 15 elements, centroid=1978, id=110>, <Cluster with 14 elements, centroid=1986, id=111>, <Cluster with 23 elements, centroid=1987, id=112>, <Cluster with 21 elements, centroid=2010, id=113>, <Cluster with 24 elements, centroid=2060, id=114>, <Cluster with 27 elements, centroid=2062, id=115>, <Cluster with 9 elements, centroid=2070, id=116>, <Cluster with 17 elements, centroid=2081, id=117>, <Cluster with 22 elements, centroid=2093, id=118>, <Cluster with 16 elements, centroid=2127, id=119>, <Cluster with 10 elements, centroid=2181, id=120>, <Cluster with 18 elements, centroid=2191, id=121>, <Cluster with 25 elements, centroid=2202, id=122>, <Cluster with 20 elements, centroid=2220, id=123>, <Cluster with 12 elements, centroid=2228, id=124>, <Cluster with 5 elements, centroid=2235, id=125>, <Cluster with 10 elements, centroid=2274, id=126>, <Cluster with 13 elements, centroid=2278, id=127>, <Cluster with 15 elements, centroid=2291, id=128>, <Cluster with 9 elements, centroid=2307, id=129>, <Cluster with 16 elements, centroid=2320, id=130>, <Cluster with 7 elements, centroid=2331, id=131>, <Cluster with 19 elements, centroid=2357, id=132>, <Cluster with 11 elements, centroid=2362, id=133>, <Cluster with 12 elements, centroid=2393, id=134>, <Cluster with 5 elements, centroid=2405, id=135>, <Cluster with 11 elements, centroid=2410, id=136>, <Cluster with 25 elements, centroid=2430, id=137>, <Cluster with 19 elements, centroid=2440, id=138>, <Cluster with 5 elements, centroid=2442, id=139>, <Cluster with 13 elements, centroid=2458, id=140>, <Cluster with 10 elements, centroid=2461, id=141>, <Cluster with 8 elements, centroid=2472, id=142>, <Cluster with 8 elements, centroid=2490, id=143>, <Cluster with 37 elements, centroid=2519, id=144>, <Cluster with 29 elements, centroid=2559, id=145>, <Cluster with 31 elements, centroid=2614, id=146>, <Cluster with 15 elements, centroid=2631, id=147>, <Cluster with 22 elements, centroid=2660, id=148>, <Cluster with 19 elements, centroid=2677, id=149>, <Cluster with 24 elements, centroid=2680, id=150>, <Cluster with 23 elements, centroid=2682, id=151>, <Cluster with 21 elements, centroid=2698, id=152>, <Cluster with 17 elements, centroid=2723, id=153>, <Cluster with 18 elements, centroid=2728, id=154>, <Cluster with 11 elements, centroid=2741, id=155>, <Cluster with 16 elements, centroid=2746, id=156>, <Cluster with 24 elements, centroid=2800, id=157>, <Cluster with 9 elements, centroid=2817, id=158>, <Cluster with 23 elements, centroid=2830, id=159>, <Cluster with 18 elements, centroid=2855, id=160>, <Cluster with 13 elements, centroid=2865, id=161>, <Cluster with 6 elements, centroid=2872, id=162>, <Cluster with 13 elements, centroid=2875, id=163>, <Cluster with 11 elements, centroid=2888, id=164>, <Cluster with 4 elements, centroid=2894, id=165>, <Cluster with 11 elements, centroid=2908, id=166>, <Cluster with 19 elements, centroid=2917, id=167>, <Cluster with 7 elements, centroid=2926, id=168>, <Cluster with 7 elements, centroid=2932, id=169>, <Cluster with 7 elements, centroid=2947, id=170>, <Cluster with 7 elements, centroid=2952, id=171>, <Cluster with 21 elements, centroid=2959, id=172>, <Cluster with 5 elements, centroid=2972, id=173>, <Cluster with 11 elements, centroid=2979, id=174>, <Cluster with 22 elements, centroid=2988, id=175>, <Cluster with 14 elements, centroid=2993, id=176>, <Cluster with 10 elements, centroid=2994, id=177>, <Cluster with 8 elements, centroid=2996, id=178>, <Cluster with 22 elements, centroid=3091, id=179>, <Cluster with 19 elements, centroid=3092, id=180>, <Cluster with 16 elements, centroid=3095, id=181>, <Cluster with 9 elements, centroid=3097, id=182>, <Cluster with 39 elements, centroid=3104, id=183>, <Cluster with 12 elements, centroid=3121, id=184>, <Cluster with 26 elements, centroid=3139, id=185>, <Cluster with 20 elements, centroid=3158, id=186>, <Cluster with 20 elements, centroid=3186, id=187>, <Cluster with 15 elements, centroid=3189, id=188>, <Cluster with 18 elements, centroid=3217, id=189>, <Cluster with 31 elements, centroid=3250, id=190>, <Cluster with 21 elements, centroid=3259, id=191>, <Cluster with 6 elements, centroid=3285, id=192>, <Cluster with 5 elements, centroid=3287, id=193>, <Cluster with 6 elements, centroid=3298, id=194>, <Cluster with 7 elements, centroid=3330, id=195>, <Cluster with 6 elements, centroid=3348, id=196>, <Cluster with 47 elements, centroid=3367, id=197>, <Cluster with 14 elements, centroid=3434, id=198>, <Cluster with 41 elements, centroid=3437, id=199>, <Cluster with 21 elements, centroid=3546, id=200>, <Cluster with 27 elements, centroid=3563, id=201>, <Cluster with 31 elements, centroid=3582, id=202>, <Cluster with 17 elements, centroid=3586, id=203>, <Cluster with 25 elements, centroid=3617, id=204>, <Cluster with 26 elements, centroid=3632, id=205>, <Cluster with 13 elements, centroid=3660, id=206>, <Cluster with 20 elements, centroid=3666, id=207>, <Cluster with 12 elements, centroid=3673, id=208>, <Cluster with 17 elements, centroid=3683, id=209>, <Cluster with 13 elements, centroid=3692, id=210>, <Cluster with 12 elements, centroid=3727, id=211>, <Cluster with 16 elements, centroid=3739, id=212>, <Cluster with 26 elements, centroid=3742, id=213>, <Cluster with 26 elements, centroid=3755, id=214>, <Cluster with 25 elements, centroid=3787, id=215>, <Cluster with 26 elements, centroid=3793, id=216>, <Cluster with 20 elements, centroid=3804, id=217>, <Cluster with 24 elements, centroid=3807, id=218>, <Cluster with 16 elements, centroid=3809, id=219>, <Cluster with 18 elements, centroid=3824, id=220>, <Cluster with 32 elements, centroid=3833, id=221>, <Cluster with 29 elements, centroid=3850, id=222>, <Cluster with 17 elements, centroid=3851, id=223>, <Cluster with 13 elements, centroid=3865, id=224>, <Cluster with 5 elements, centroid=3867, id=225>, <Cluster with 7 elements, centroid=3878, id=226>, <Cluster with 24 elements, centroid=3886, id=227>, <Cluster with 11 elements, centroid=3902, id=228>, <Cluster with 7 elements, centroid=3908, id=229>, <Cluster with 14 elements, centroid=3936, id=230>, <Cluster with 20 elements, centroid=3939, id=231>, <Cluster with 31 elements, centroid=3944, id=232>, <Cluster with 9 elements, centroid=3971, id=233>, <Cluster with 12 elements, centroid=3977, id=234>, <Cluster with 20 elements, centroid=3982, id=235>, <Cluster with 10 elements, centroid=3991, id=236>, <Cluster with 5 elements, centroid=4003, id=237>, <Cluster with 11 elements, centroid=4008, id=238>, <Cluster with 5 elements, centroid=4017, id=239>, <Cluster with 2 elements, centroid=4021, id=240>, <Cluster with 13 elements, centroid=4040, id=241>, <Cluster with 6 elements, centroid=4059, id=242>, <Cluster with 13 elements, centroid=4060, id=243>, <Cluster with 11 elements, centroid=4073, id=244>, <Cluster with 6 elements, centroid=4076, id=245>, <Cluster with 9 elements, centroid=4083, id=246>, <Cluster with 7 elements, centroid=4085, id=247>, <Cluster with 15 elements, centroid=4107, id=248>, <Cluster with 19 elements, centroid=4120, id=249>, <Cluster with 30 elements, centroid=4167, id=250>, <Cluster with 20 elements, centroid=4172, id=251>, <Cluster with 36 elements, centroid=4220, id=252>, <Cluster with 21 elements, centroid=4223, id=253>, <Cluster with 20 elements, centroid=4231, id=254>, <Cluster with 19 elements, centroid=4269, id=255>, <Cluster with 20 elements, centroid=4276, id=256>, <Cluster with 15 elements, centroid=4309, id=257>, <Cluster with 19 elements, centroid=4326, id=258>, <Cluster with 16 elements, centroid=4342, id=259>, <Cluster with 8 elements, centroid=4346, id=260>, <Cluster with 7 elements, centroid=4360, id=261>, <Cluster with 8 elements, centroid=4371, id=262>, <Cluster with 4 elements, centroid=4378, id=263>, <Cluster with 6 elements, centroid=4397, id=264>, <Cluster with 2 elements, centroid=4402, id=265>, <Cluster with 8 elements, centroid=4407, id=266>, <Cluster with 10 elements, centroid=4460, id=267>, <Cluster with 17 elements, centroid=4462, id=268>, <Cluster with 10 elements, centroid=4468, id=269>, <Cluster with 1 elements, centroid=4515, id=270>, <Cluster with 13 elements, centroid=4536, id=271>, <Cluster with 14 elements, centroid=4537, id=272>, <Cluster with 11 elements, centroid=4542, id=273>, <Cluster with 34 elements, centroid=4552, id=274>, <Cluster with 24 elements, centroid=4559, id=275>, <Cluster with 5 elements, centroid=4564, id=276>, <Cluster with 22 elements, centroid=4579, id=277>, <Cluster with 17 elements, centroid=4639, id=278>, <Cluster with 20 elements, centroid=4649, id=279>, <Cluster with 19 elements, centroid=4668, id=280>, <Cluster with 10 elements, centroid=4684, id=281>, <Cluster with 11 elements, centroid=4690, id=282>, <Cluster with 8 elements, centroid=4708, id=283>, <Cluster with 11 elements, centroid=4731, id=284>, <Cluster with 10 elements, centroid=4746, id=285>, <Cluster with 20 elements, centroid=4765, id=286>, <Cluster with 13 elements, centroid=4767, id=287>, <Cluster with 5 elements, centroid=4779, id=288>, <Cluster with 11 elements, centroid=4782, id=289>, <Cluster with 16 elements, centroid=4786, id=290>, <Cluster with 15 elements, centroid=4809, id=291>, <Cluster with 8 elements, centroid=4824, id=292>, <Cluster with 13 elements, centroid=4833, id=293>, <Cluster with 8 elements, centroid=4855, id=294>, <Cluster with 8 elements, centroid=4858, id=295>, <Cluster with 10 elements, centroid=4894, id=296>, <Cluster with 31 elements, centroid=4920, id=297>, <Cluster with 16 elements, centroid=4947, id=298>, <Cluster with 15 elements, centroid=4948, id=299>, <Cluster with 14 elements, centroid=4957, id=300>, <Cluster with 12 elements, centroid=4960, id=301>, <Cluster with 13 elements, centroid=4963, id=302>, <Cluster with 20 elements, centroid=4982, id=303>, <Cluster with 18 elements, centroid=5014, id=304>, <Cluster with 13 elements, centroid=5023, id=305>, <Cluster with 21 elements, centroid=5033, id=306>, <Cluster with 28 elements, centroid=5037, id=307>, <Cluster with 9 elements, centroid=5081, id=308>, <Cluster with 11 elements, centroid=5106, id=309>, <Cluster with 21 elements, centroid=5124, id=310>, <Cluster with 23 elements, centroid=5150, id=311>, <Cluster with 19 elements, centroid=5158, id=312>, <Cluster with 40 elements, centroid=5163, id=313>, <Cluster with 25 elements, centroid=5167, id=314>, <Cluster with 25 elements, centroid=5173, id=315>, <Cluster with 23 elements, centroid=5187, id=316>, <Cluster with 6 elements, centroid=5218, id=317>, <Cluster with 20 elements, centroid=5220, id=318>, <Cluster with 8 elements, centroid=5224, id=319>, <Cluster with 12 elements, centroid=5231, id=320>, <Cluster with 13 elements, centroid=5235, id=321>, <Cluster with 11 elements, centroid=5273, id=322>, <Cluster with 5 elements, centroid=5275, id=323>, <Cluster with 8 elements, centroid=5292, id=324>, <Cluster with 19 elements, centroid=5303, id=325>, <Cluster with 18 elements, centroid=5318, id=326>, <Cluster with 7 elements, centroid=5321, id=327>, <Cluster with 6 elements, centroid=5335, id=328>, <Cluster with 10 elements, centroid=5364, id=329>, <Cluster with 7 elements, centroid=5374, id=330>, <Cluster with 8 elements, centroid=5387, id=331>, <Cluster with 15 elements, centroid=5396, id=332>, <Cluster with 34 elements, centroid=5433, id=333>, <Cluster with 14 elements, centroid=5464, id=334>, <Cluster with 10 elements, centroid=5516, id=335>, <Cluster with 26 elements, centroid=5561, id=336>, <Cluster with 10 elements, centroid=5562, id=337>, <Cluster with 12 elements, centroid=5567, id=338>, <Cluster with 22 elements, centroid=5568, id=339>, <Cluster with 14 elements, centroid=5590, id=340>, <Cluster with 23 elements, centroid=5593, id=341>, <Cluster with 19 elements, centroid=5596, id=342>, <Cluster with 16 elements, centroid=5615, id=343>, <Cluster with 8 elements, centroid=5620, id=344>, <Cluster with 4 elements, centroid=5633, id=345>, <Cluster with 17 elements, centroid=5653, id=346>, <Cluster with 31 elements, centroid=5700, id=347>, <Cluster with 16 elements, centroid=5724, id=348>, <Cluster with 21 elements, centroid=5733, id=349>, <Cluster with 16 elements, centroid=5753, id=350>, <Cluster with 15 elements, centroid=5883, id=351>, <Cluster with 9 elements, centroid=5885, id=352>, <Cluster with 15 elements, centroid=5887, id=353>, <Cluster with 10 elements, centroid=5895, id=354>, <Cluster with 9 elements, centroid=5905, id=355>, <Cluster with 4 elements, centroid=5926, id=356>, <Cluster with 14 elements, centroid=5930, id=357>, <Cluster with 8 elements, centroid=5932, id=358>, <Cluster with 11 elements, centroid=5940, id=359>, <Cluster with 17 elements, centroid=5968, id=360>, <Cluster with 7 elements, centroid=5988, id=361>, <Cluster with 18 elements, centroid=6029, id=362>, <Cluster with 22 elements, centroid=6063, id=363>, <Cluster with 20 elements, centroid=6082, id=364>, <Cluster with 10 elements, centroid=6085, id=365>, <Cluster with 22 elements, centroid=6104, id=366>, <Cluster with 8 elements, centroid=6107, id=367>, <Cluster with 22 elements, centroid=6195, id=368>, <Cluster with 20 elements, centroid=6218, id=369>, <Cluster with 28 elements, centroid=6237, id=370>, <Cluster with 5 elements, centroid=6251, id=371>, <Cluster with 3 elements, centroid=6263, id=372>, <Cluster with 8 elements, centroid=6273, id=373>, <Cluster with 5 elements, centroid=6319, id=374>, <Cluster with 8 elements, centroid=6329, id=375>, <Cluster with 2 elements, centroid=6331, id=376>, <Cluster with 9 elements, centroid=6343, id=377>, <Cluster with 9 elements, centroid=6344, id=378>, <Cluster with 22 elements, centroid=6374, id=379>, <Cluster with 16 elements, centroid=6381, id=380>, <Cluster with 16 elements, centroid=6390, id=381>, <Cluster with 16 elements, centroid=6398, id=382>, <Cluster with 16 elements, centroid=6400, id=383>, <Cluster with 13 elements, centroid=6411, id=384>, <Cluster with 6 elements, centroid=6423, id=385>, <Cluster with 8 elements, centroid=6446, id=386>, <Cluster with 29 elements, centroid=6453, id=387>, <Cluster with 11 elements, centroid=6455, id=388>, <Cluster with 19 elements, centroid=6480, id=389>, <Cluster with 27 elements, centroid=6489, id=390>, <Cluster with 16 elements, centroid=6529, id=391>, <Cluster with 11 elements, centroid=6532, id=392>, <Cluster with 23 elements, centroid=6552, id=393>, <Cluster with 16 elements, centroid=6564, id=394>, <Cluster with 11 elements, centroid=6587, id=395>, <Cluster with 10 elements, centroid=6615, id=396>, <Cluster with 9 elements, centroid=6621, id=397>, <Cluster with 8 elements, centroid=6628, id=398>, <Cluster with 16 elements, centroid=6645, id=399>, <Cluster with 7 elements, centroid=6656, id=400>, <Cluster with 8 elements, centroid=6660, id=401>, <Cluster with 8 elements, centroid=6671, id=402>, <Cluster with 10 elements, centroid=6677, id=403>, <Cluster with 14 elements, centroid=6708, id=404>, <Cluster with 14 elements, centroid=6723, id=405>, <Cluster with 15 elements, centroid=6728, id=406>, <Cluster with 20 elements, centroid=6791, id=407>, <Cluster with 8 elements, centroid=6813, id=408>, <Cluster with 36 elements, centroid=6820, id=409>, <Cluster with 20 elements, centroid=6821, id=410>, <Cluster with 17 elements, centroid=6825, id=411>, <Cluster with 19 elements, centroid=6835, id=412>, <Cluster with 14 elements, centroid=6839, id=413>, <Cluster with 8 elements, centroid=6852, id=414>, <Cluster with 7 elements, centroid=6858, id=415>, <Cluster with 24 elements, centroid=6889, id=416>, <Cluster with 19 elements, centroid=6907, id=417>, <Cluster with 32 elements, centroid=6911, id=418>, <Cluster with 16 elements, centroid=6969, id=419>, <Cluster with 20 elements, centroid=6983, id=420>, <Cluster with 30 elements, centroid=7031, id=421>, <Cluster with 15 elements, centroid=7084, id=422>, <Cluster with 15 elements, centroid=7115, id=423>, <Cluster with 13 elements, centroid=7117, id=424>, <Cluster with 31 elements, centroid=7139, id=425>, <Cluster with 14 elements, centroid=7143, id=426>, <Cluster with 17 elements, centroid=7145, id=427>, <Cluster with 20 elements, centroid=7150, id=428>, <Cluster with 25 elements, centroid=7181, id=429>, <Cluster with 23 elements, centroid=7183, id=430>, <Cluster with 13 elements, centroid=7185, id=431>, <Cluster with 17 elements, centroid=7186, id=432>, <Cluster with 4 elements, centroid=7196, id=433>, <Cluster with 33 elements, centroid=7222, id=434>, <Cluster with 34 elements, centroid=7225, id=435>, <Cluster with 12 elements, centroid=7256, id=436>, <Cluster with 8 elements, centroid=7305, id=437>, <Cluster with 18 elements, centroid=7326, id=438>, <Cluster with 22 elements, centroid=7346, id=439>, <Cluster with 27 elements, centroid=7347, id=440>, <Cluster with 18 elements, centroid=7356, id=441>, <Cluster with 21 elements, centroid=7382, id=442>, <Cluster with 25 elements, centroid=7436, id=443>, <Cluster with 29 elements, centroid=7458, id=444>, <Cluster with 28 elements, centroid=7475, id=445>, <Cluster with 12 elements, centroid=7488, id=446>, <Cluster with 24 elements, centroid=7490, id=447>, <Cluster with 23 elements, centroid=7497, id=448>, <Cluster with 5 elements, centroid=7523, id=449>, <Cluster with 15 elements, centroid=7543, id=450>, <Cluster with 8 elements, centroid=7574, id=451>, <Cluster with 7 elements, centroid=7580, id=452>, <Cluster with 10 elements, centroid=7583, id=453>, <Cluster with 9 elements, centroid=7588, id=454>, <Cluster with 6 elements, centroid=7590, id=455>, <Cluster with 9 elements, centroid=7610, id=456>, <Cluster with 19 elements, centroid=7616, id=457>, <Cluster with 22 elements, centroid=7651, id=458>, <Cluster with 22 elements, centroid=7654, id=459>, <Cluster with 12 elements, centroid=7664, id=460>, <Cluster with 13 elements, centroid=7672, id=461>, <Cluster with 18 elements, centroid=7680, id=462>, <Cluster with 6 elements, centroid=7686, id=463>, <Cluster with 14 elements, centroid=7696, id=464>, <Cluster with 18 elements, centroid=7702, id=465>, <Cluster with 7 elements, centroid=7705, id=466>, <Cluster with 6 elements, centroid=7713, id=467>, <Cluster with 11 elements, centroid=7715, id=468>, <Cluster with 8 elements, centroid=7719, id=469>, <Cluster with 4 elements, centroid=7723, id=470>, <Cluster with 14 elements, centroid=7741, id=471>, <Cluster with 19 elements, centroid=7759, id=472>, <Cluster with 16 elements, centroid=7769, id=473>, <Cluster with 9 elements, centroid=7773, id=474>, <Cluster with 10 elements, centroid=7776, id=475>, <Cluster with 4 elements, centroid=7778, id=476>, <Cluster with 4 elements, centroid=7781, id=477>, <Cluster with 9 elements, centroid=7786, id=478>, <Cluster with 20 elements, centroid=7793, id=479>, <Cluster with 4 elements, centroid=7835, id=480>, <Cluster with 9 elements, centroid=7847, id=481>, <Cluster with 8 elements, centroid=7856, id=482>, <Cluster with 6 elements, centroid=7894, id=483>, <Cluster with 22 elements, centroid=7916, id=484>, <Cluster with 33 elements, centroid=7937, id=485>, <Cluster with 24 elements, centroid=7951, id=486>, <Cluster with 3 elements, centroid=7981, id=487>, <Cluster with 3 elements, centroid=7983, id=488>, <Cluster with 26 elements, centroid=8004, id=489>, <Cluster with 23 elements, centroid=8006, id=490>, <Cluster with 27 elements, centroid=8020, id=491>, <Cluster with 12 elements, centroid=8046, id=492>, <Cluster with 31 elements, centroid=8050, id=493>, <Cluster with 17 elements, centroid=8051, id=494>, <Cluster with 23 elements, centroid=8055, id=495>, <Cluster with 22 elements, centroid=8061, id=496>, <Cluster with 20 elements, centroid=8068, id=497>, <Cluster with 4 elements, centroid=8074, id=498>, <Cluster with 11 elements, centroid=8081, id=499>, <Cluster with 11 elements, centroid=8100, id=500>, <Cluster with 23 elements, centroid=8155, id=501>, <Cluster with 13 elements, centroid=8180, id=502>, <Cluster with 30 elements, centroid=8181, id=503>, <Cluster with 3 elements, centroid=8236, id=504>, <Cluster with 19 elements, centroid=8277, id=505>, <Cluster with 15 elements, centroid=8296, id=506>, <Cluster with 9 elements, centroid=8301, id=507>, <Cluster with 21 elements, centroid=8319, id=508>, <Cluster with 11 elements, centroid=8343, id=509>, <Cluster with 15 elements, centroid=8350, id=510>, <Cluster with 6 elements, centroid=8362, id=511>, <Cluster with 10 elements, centroid=8366, id=512>, <Cluster with 7 elements, centroid=8371, id=513>, <Cluster with 14 elements, centroid=8387, id=514>, <Cluster with 16 elements, centroid=8392, id=515>, <Cluster with 6 elements, centroid=8413, id=516>, <Cluster with 19 elements, centroid=8480, id=517>, <Cluster with 24 elements, centroid=8502, id=518>, <Cluster with 17 elements, centroid=8510, id=519>, <Cluster with 16 elements, centroid=8512, id=520>, <Cluster with 28 elements, centroid=8520, id=521>, <Cluster with 12 elements, centroid=8537, id=522>, <Cluster with 15 elements, centroid=8541, id=523>, <Cluster with 9 elements, centroid=8560, id=524>, <Cluster with 25 elements, centroid=8584, id=525>, <Cluster with 8 elements, centroid=8621, id=526>, <Cluster with 5 elements, centroid=8629, id=527>, <Cluster with 14 elements, centroid=8630, id=528>, <Cluster with 12 elements, centroid=8638, id=529>, <Cluster with 7 elements, centroid=8660, id=530>, <Cluster with 12 elements, centroid=8665, id=531>, <Cluster with 13 elements, centroid=8681, id=532>, <Cluster with 16 elements, centroid=8691, id=533>, <Cluster with 17 elements, centroid=8695, id=534>, <Cluster with 13 elements, centroid=8711, id=535>, <Cluster with 14 elements, centroid=8716, id=536>, <Cluster with 10 elements, centroid=8741, id=537>, <Cluster with 21 elements, centroid=8755, id=538>, <Cluster with 9 elements, centroid=8763, id=539>, <Cluster with 11 elements, centroid=8780, id=540>, <Cluster with 24 elements, centroid=8788, id=541>, <Cluster with 7 elements, centroid=8803, id=542>, <Cluster with 6 elements, centroid=8809, id=543>, <Cluster with 21 elements, centroid=8811, id=544>, <Cluster with 3 elements, centroid=8831, id=545>, <Cluster with 9 elements, centroid=8845, id=546>, <Cluster with 3 elements, centroid=8852, id=547>, <Cluster with 6 elements, centroid=8853, id=548>, <Cluster with 4 elements, centroid=8856, id=549>, <Cluster with 12 elements, centroid=8862, id=550>, <Cluster with 8 elements, centroid=8873, id=551>, <Cluster with 7 elements, centroid=8874, id=552>, <Cluster with 14 elements, centroid=8880, id=553>, <Cluster with 21 elements, centroid=8930, id=554>, <Cluster with 9 elements, centroid=8953, id=555>, <Cluster with 5 elements, centroid=8954, id=556>, <Cluster with 3 elements, centroid=8959, id=557>, <Cluster with 5 elements, centroid=8967, id=558>, <Cluster with 7 elements, centroid=8972, id=559>, <Cluster with 27 elements, centroid=9007, id=560>, <Cluster with 21 elements, centroid=9030, id=561>, <Cluster with 13 elements, centroid=9034, id=562>, <Cluster with 18 elements, centroid=9077, id=563>, <Cluster with 19 elements, centroid=9078, id=564>, <Cluster with 7 elements, centroid=9081, id=565>, <Cluster with 12 elements, centroid=9087, id=566>, <Cluster with 20 elements, centroid=9115, id=567>, <Cluster with 22 elements, centroid=9121, id=568>, <Cluster with 23 elements, centroid=9123, id=569>, <Cluster with 13 elements, centroid=9127, id=570>, <Cluster with 16 elements, centroid=9130, id=571>, <Cluster with 20 elements, centroid=9145, id=572>, <Cluster with 24 elements, centroid=9159, id=573>, <Cluster with 8 elements, centroid=9178, id=574>, <Cluster with 7 elements, centroid=9182, id=575>, <Cluster with 12 elements, centroid=9206, id=576>, <Cluster with 10 elements, centroid=9224, id=577>, <Cluster with 10 elements, centroid=9230, id=578>, <Cluster with 5 elements, centroid=9237, id=579>, <Cluster with 4 elements, centroid=9288, id=580>, <Cluster with 21 elements, centroid=9307, id=581>, <Cluster with 10 elements, centroid=9319, id=582>, <Cluster with 23 elements, centroid=9344, id=583>, <Cluster with 26 elements, centroid=9347, id=584>, <Cluster with 17 elements, centroid=9367, id=585>, <Cluster with 24 elements, centroid=9386, id=586>, <Cluster with 29 elements, centroid=9390, id=587>, <Cluster with 14 elements, centroid=9395, id=588>, <Cluster with 19 elements, centroid=9425, id=589>, <Cluster with 25 elements, centroid=9472, id=590>, <Cluster with 13 elements, centroid=9509, id=591>, <Cluster with 7 elements, centroid=9517, id=592>, <Cluster with 4 elements, centroid=9526, id=593>, <Cluster with 6 elements, centroid=9535, id=594>, <Cluster with 10 elements, centroid=9542, id=595>, <Cluster with 8 elements, centroid=9548, id=596>, <Cluster with 4 elements, centroid=9556, id=597>, <Cluster with 4 elements, centroid=9581, id=598>, <Cluster with 12 elements, centroid=9589, id=599>, <Cluster with 13 elements, centroid=9592, id=600>, <Cluster with 3 elements, centroid=9597, id=601>, <Cluster with 15 elements, centroid=9605, id=602>, <Cluster with 15 elements, centroid=9613, id=603>, <Cluster with 4 elements, centroid=9628, id=604>, <Cluster with 5 elements, centroid=9631, id=605>, <Cluster with 22 elements, centroid=9640, id=606>, <Cluster with 9 elements, centroid=9651, id=607>, <Cluster with 2 elements, centroid=9659, id=608>, <Cluster with 9 elements, centroid=9669, id=609>, <Cluster with 4 elements, centroid=9683, id=610>, <Cluster with 12 elements, centroid=9693, id=611>, <Cluster with 15 elements, centroid=9710, id=612>, <Cluster with 11 elements, centroid=9711, id=613>, <Cluster with 28 elements, centroid=9728, id=614>, <Cluster with 6 elements, centroid=9738, id=615>, <Cluster with 12 elements, centroid=9740, id=616>, <Cluster with 14 elements, centroid=9742, id=617>, <Cluster with 18 elements, centroid=9752, id=618>, <Cluster with 20 elements, centroid=9753, id=619>, <Cluster with 15 elements, centroid=9756, id=620>, <Cluster with 14 elements, centroid=9764, id=621>, <Cluster with 11 elements, centroid=9767, id=622>, <Cluster with 6 elements, centroid=9813, id=623>, <Cluster with 15 elements, centroid=9832, id=624>, <Cluster with 5 elements, centroid=9846, id=625>, <Cluster with 4 elements, centroid=9848, id=626>, <Cluster with 10 elements, centroid=9869, id=627>, <Cluster with 20 elements, centroid=9877, id=628>, <Cluster with 12 elements, centroid=9887, id=629>, <Cluster with 8 elements, centroid=9889, id=630>, <Cluster with 18 elements, centroid=9895, id=631>, <Cluster with 9 elements, centroid=9901, id=632>, <Cluster with 7 elements, centroid=9905, id=633>, <Cluster with 3 elements, centroid=9911, id=634>, <Cluster with 10 elements, centroid=9950, id=635>, <Cluster with 14 elements, centroid=9956, id=636>, <Cluster with 1 elements, centroid=9974, id=637>, <Cluster with 15 elements, centroid=9979, id=638>, <Cluster with 12 elements, centroid=9995, id=639>, <Cluster with 7 elements, centroid=10021, id=640>, <Cluster with 8 elements, centroid=10029, id=641>, <Cluster with 12 elements, centroid=10041, id=642>, <Cluster with 14 elements, centroid=10048, id=643>, <Cluster with 2 elements, centroid=10049, id=644>, <Cluster with 10 elements, centroid=10079, id=645>, <Cluster with 13 elements, centroid=10084, id=646>, <Cluster with 24 elements, centroid=10087, id=647>, <Cluster with 10 elements, centroid=10089, id=648>, <Cluster with 13 elements, centroid=10104, id=649>, <Cluster with 13 elements, centroid=10112, id=650>, <Cluster with 8 elements, centroid=10135, id=651>, <Cluster with 12 elements, centroid=10138, id=652>, <Cluster with 15 elements, centroid=10142, id=653>, <Cluster with 9 elements, centroid=10162, id=654>, <Cluster with 11 elements, centroid=10181, id=655>, <Cluster with 20 elements, centroid=10195, id=656>, <Cluster with 8 elements, centroid=10211, id=657>, <Cluster with 9 elements, centroid=10215, id=658>, <Cluster with 7 elements, centroid=10221, id=659>, <Cluster with 27 elements, centroid=10243, id=660>, <Cluster with 18 elements, centroid=10254, id=661>, <Cluster with 22 elements, centroid=10293, id=662>, <Cluster with 25 elements, centroid=10305, id=663>, <Cluster with 14 elements, centroid=10333, id=664>, <Cluster with 7 elements, centroid=10344, id=665>, <Cluster with 35 elements, centroid=10346, id=666>, <Cluster with 26 elements, centroid=10368, id=667>, <Cluster with 29 elements, centroid=10396, id=668>, <Cluster with 17 elements, centroid=10402, id=669>, <Cluster with 17 elements, centroid=10403, id=670>, <Cluster with 20 elements, centroid=10410, id=671>, <Cluster with 9 elements, centroid=10468, id=672>, <Cluster with 5 elements, centroid=10473, id=673>, <Cluster with 4 elements, centroid=10498, id=674>, <Cluster with 7 elements, centroid=10509, id=675>, <Cluster with 4 elements, centroid=10517, id=676>, <Cluster with 18 elements, centroid=10542, id=677>, <Cluster with 16 elements, centroid=10543, id=678>, <Cluster with 11 elements, centroid=10544, id=679>, <Cluster with 12 elements, centroid=10550, id=680>, <Cluster with 11 elements, centroid=10555, id=681>, <Cluster with 8 elements, centroid=10560, id=682>, <Cluster with 5 elements, centroid=10570, id=683>, <Cluster with 5 elements, centroid=10580, id=684>, <Cluster with 13 elements, centroid=10588, id=685>, <Cluster with 6 elements, centroid=10596, id=686>, <Cluster with 7 elements, centroid=10599, id=687>, <Cluster with 10 elements, centroid=10604, id=688>, <Cluster with 10 elements, centroid=10615, id=689>, <Cluster with 12 elements, centroid=10620, id=690>, <Cluster with 7 elements, centroid=10632, id=691>, <Cluster with 4 elements, centroid=10636, id=692>, <Cluster with 11 elements, centroid=10641, id=693>, <Cluster with 7 elements, centroid=10642, id=694>, <Cluster with 12 elements, centroid=10647, id=695>, <Cluster with 5 elements, centroid=10660, id=696>, <Cluster with 14 elements, centroid=10666, id=697>, <Cluster with 4 elements, centroid=10667, id=698>, <Cluster with 2 elements, centroid=10671, id=699>, <Cluster with 3 elements, centroid=10674, id=700>, <Cluster with 7 elements, centroid=10677, id=701>, <Cluster with 17 elements, centroid=10690, id=702>, <Cluster with 11 elements, centroid=10694, id=703>, <Cluster with 9 elements, centroid=10695, id=704>, <Cluster with 15 elements, centroid=10698, id=705>, <Cluster with 13 elements, centroid=10723, id=706>, <Cluster with 19 elements, centroid=10740, id=707>, <Cluster with 9 elements, centroid=10742, id=708>, <Cluster with 14 elements, centroid=10749, id=709>, <Cluster with 5 elements, centroid=10757, id=710>, <Cluster with 15 elements, centroid=10761, id=711>, <Cluster with 18 elements, centroid=10769, id=712>, <Cluster with 7 elements, centroid=10778, id=713>, <Cluster with 12 elements, centroid=10788, id=714>, <Cluster with 23 elements, centroid=10802, id=715>, <Cluster with 11 elements, centroid=10828, id=716>, <Cluster with 20 elements, centroid=10852, id=717>, <Cluster with 9 elements, centroid=10854, id=718>, <Cluster with 12 elements, centroid=10870, id=719>, <Cluster with 12 elements, centroid=10876, id=720>, <Cluster with 21 elements, centroid=10878, id=721>, <Cluster with 21 elements, centroid=10880, id=722>, <Cluster with 19 elements, centroid=10893, id=723>, <Cluster with 16 elements, centroid=10910, id=724>, <Cluster with 3 elements, centroid=10920, id=725>, <Cluster with 17 elements, centroid=10942, id=726>, <Cluster with 11 elements, centroid=10954, id=727>, <Cluster with 9 elements, centroid=10968, id=728>, <Cluster with 10 elements, centroid=10984, id=729>, <Cluster with 8 elements, centroid=10999, id=730>, <Cluster with 7 elements, centroid=11005, id=731>, <Cluster with 7 elements, centroid=11009, id=732>, <Cluster with 17 elements, centroid=11010, id=733>, <Cluster with 17 elements, centroid=11028, id=734>, <Cluster with 13 elements, centroid=11040, id=735>, <Cluster with 3 elements, centroid=11060, id=736>, <Cluster with 9 elements, centroid=11095, id=737>, <Cluster with 12 elements, centroid=11096, id=738>, <Cluster with 8 elements, centroid=11140, id=739>, <Cluster with 3 elements, centroid=11147, id=740>, <Cluster with 5 elements, centroid=11174, id=741>, <Cluster with 25 elements, centroid=11175, id=742>, <Cluster with 11 elements, centroid=11190, id=743>, <Cluster with 14 elements, centroid=11197, id=744>, <Cluster with 7 elements, centroid=11209, id=745>, <Cluster with 11 elements, centroid=11217, id=746>, <Cluster with 14 elements, centroid=11249, id=747>, <Cluster with 9 elements, centroid=11268, id=748>, <Cluster with 19 elements, centroid=11271, id=749>, <Cluster with 14 elements, centroid=11272, id=750>, <Cluster with 14 elements, centroid=11277, id=751>, <Cluster with 8 elements, centroid=11278, id=752>, <Cluster with 15 elements, centroid=11287, id=753>, <Cluster with 13 elements, centroid=11293, id=754>, <Cluster with 10 elements, centroid=11307, id=755>, <Cluster with 3 elements, centroid=11344, id=756>, <Cluster with 2 elements, centroid=11345, id=757>, <Cluster with 12 elements, centroid=11349, id=758>, <Cluster with 11 elements, centroid=11367, id=759>, <Cluster with 11 elements, centroid=11371, id=760>, <Cluster with 11 elements, centroid=11379, id=761>, <Cluster with 8 elements, centroid=11385, id=762>, <Cluster with 13 elements, centroid=11390, id=763>, <Cluster with 10 elements, centroid=11412, id=764>, <Cluster with 5 elements, centroid=11420, id=765>, <Cluster with 16 elements, centroid=11437, id=766>, <Cluster with 13 elements, centroid=11461, id=767>, <Cluster with 8 elements, centroid=11471, id=768>, <Cluster with 3 elements, centroid=11497, id=769>, <Cluster with 7 elements, centroid=11502, id=770>, <Cluster with 12 elements, centroid=11510, id=771>, <Cluster with 7 elements, centroid=11512, id=772>, <Cluster with 7 elements, centroid=11519, id=773>, <Cluster with 9 elements, centroid=11530, id=774>, <Cluster with 6 elements, centroid=11536, id=775>, <Cluster with 13 elements, centroid=11542, id=776>, <Cluster with 12 elements, centroid=11546, id=777>, <Cluster with 6 elements, centroid=11550, id=778>, <Cluster with 12 elements, centroid=11574, id=779>, <Cluster with 10 elements, centroid=11586, id=780>, <Cluster with 6 elements, centroid=11592, id=781>, <Cluster with 6 elements, centroid=11594, id=782>, <Cluster with 3 elements, centroid=11602, id=783>, <Cluster with 3 elements, centroid=11618, id=784>, <Cluster with 13 elements, centroid=11622, id=785>, <Cluster with 12 elements, centroid=11642, id=786>, <Cluster with 15 elements, centroid=11645, id=787>, <Cluster with 9 elements, centroid=11647, id=788>, <Cluster with 10 elements, centroid=11660, id=789>, <Cluster with 7 elements, centroid=11664, id=790>, <Cluster with 15 elements, centroid=11666, id=791>, <Cluster with 10 elements, centroid=11671, id=792>, <Cluster with 16 elements, centroid=11687, id=793>, <Cluster with 11 elements, centroid=11739, id=794>, <Cluster with 15 elements, centroid=11742, id=795>, <Cluster with 16 elements, centroid=11750, id=796>, <Cluster with 9 elements, centroid=11757, id=797>, <Cluster with 20 elements, centroid=11760, id=798>, <Cluster with 18 elements, centroid=11761, id=799>, <Cluster with 6 elements, centroid=11774, id=800>, <Cluster with 11 elements, centroid=11784, id=801>, <Cluster with 5 elements, centroid=11792, id=802>, <Cluster with 2 elements, centroid=11803, id=803>, <Cluster with 7 elements, centroid=11820, id=804>, <Cluster with 4 elements, centroid=11824, id=805>, <Cluster with 8 elements, centroid=11831, id=806>, <Cluster with 3 elements, centroid=11838, id=807>, <Cluster with 3 elements, centroid=11848, id=808>, <Cluster with 9 elements, centroid=11860, id=809>, <Cluster with 4 elements, centroid=11874, id=810>, <Cluster with 10 elements, centroid=11886, id=811>, <Cluster with 11 elements, centroid=11892, id=812>, <Cluster with 14 elements, centroid=11899, id=813>, <Cluster with 17 elements, centroid=11906, id=814>, <Cluster with 13 elements, centroid=11922, id=815>, <Cluster with 3 elements, centroid=11961, id=816>, <Cluster with 9 elements, centroid=11963, id=817>, <Cluster with 6 elements, centroid=11978, id=818>, <Cluster with 7 elements, centroid=11982, id=819>, <Cluster with 6 elements, centroid=11997, id=820>]\n"
     ]
    }
   ],
   "source": [
    "#accesing the clusters themselves and finding the centroid of the cluster with least nan values\n",
    "cluster_test= cluster_collection_esp100.clusters\n",
    "cluster_test\n",
    "print(cluster_test)"
   ]
  }
 ],
 "metadata": {
  "kernelspec": {
   "display_name": "openbiosim",
   "language": "python",
   "name": "python3"
  },
  "language_info": {
   "codemirror_mode": {
    "name": "ipython",
    "version": 3
   },
   "file_extension": ".py",
   "mimetype": "text/x-python",
   "name": "python",
   "nbconvert_exporter": "python",
   "pygments_lexer": "ipython3",
   "version": "3.9.18"
  },
  "orig_nbformat": 4
 },
 "nbformat": 4,
 "nbformat_minor": 2
}
