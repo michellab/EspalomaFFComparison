{
 "cells": [
  {
   "cell_type": "code",
   "execution_count": 1,
   "metadata": {},
   "outputs": [
    {
     "data": {
      "application/vnd.jupyter.widget-view+json": {
       "model_id": "d01b6262634740f7aac2294f6cf931ae",
       "version_major": 2,
       "version_minor": 0
      },
      "text/plain": []
     },
     "metadata": {},
     "output_type": "display_data"
    },
    {
     "name": "stderr",
     "output_type": "stream",
     "text": [
      "INFO:rdkit:Enabling RDKit 2023.03.3 jupyter extensions\n"
     ]
    }
   ],
   "source": [
    "import BioSimSpace as BSS"
   ]
  },
  {
   "cell_type": "code",
   "execution_count": 2,
   "metadata": {},
   "outputs": [],
   "source": [
    "#importing the espaloma ligand \n",
    "files = [\"input_files/compound_19_copy.gro\", \"input_files/compound_19_copy.top\"]\n",
    "comp_19_esp = BSS.IO.readMolecules(files)\n"
   ]
  },
  {
   "cell_type": "code",
   "execution_count": 3,
   "metadata": {},
   "outputs": [],
   "source": [
    "#importing the protein \n",
    "protein = BSS.IO.readMolecules(\"input_files/protein_b_uncapped.pdb\")\n",
    "loop_b = BSS.IO.readPDB(\"input_files/protein_b_uncapped.pdb\", pdb4amber = True)[0]"
   ]
  },
  {
   "cell_type": "code",
   "execution_count": 4,
   "metadata": {},
   "outputs": [
    {
     "data": {
      "application/vnd.jupyter.widget-view+json": {
       "model_id": "725c547c2e1e4e7baa93627663c1d56c",
       "version_major": 2,
       "version_minor": 0
      },
      "text/plain": [
       "ThemeManager()"
      ]
     },
     "metadata": {},
     "output_type": "display_data"
    },
    {
     "data": {
      "application/vnd.jupyter.widget-view+json": {
       "model_id": "d2815ec7c28f4aaeb54b28903011460f",
       "version_major": 2,
       "version_minor": 0
      },
      "text/plain": [
       "NGLWidget(gui_style='ngl')"
      ]
     },
     "metadata": {},
     "output_type": "display_data"
    }
   ],
   "source": [
    "#view 1\n",
    "view = BSS.Notebook.View(comp_19_esp)\n",
    "view.system()"
   ]
  },
  {
   "cell_type": "code",
   "execution_count": 5,
   "metadata": {},
   "outputs": [
    {
     "data": {
      "application/vnd.jupyter.widget-view+json": {
       "model_id": "57153dfd905b4d0d80b603aee7f4c28d",
       "version_major": 2,
       "version_minor": 0
      },
      "text/plain": [
       "NGLWidget(gui_style='ngl')"
      ]
     },
     "metadata": {},
     "output_type": "display_data"
    }
   ],
   "source": [
    "#view 2 \n",
    "view = BSS.Notebook.View(loop_b)\n",
    "view.system()"
   ]
  },
  {
   "cell_type": "code",
   "execution_count": 6,
   "metadata": {},
   "outputs": [
    {
     "name": "stdout",
     "output_type": "stream",
     "text": [
      "env: CUDA_VISIBLE_DEVICES=2\n"
     ]
    }
   ],
   "source": [
    "#parameterisation of amber protein\n",
    "%env CUDA_VISIBLE_DEVICES=2\n",
    "process = BSS.Parameters.ff14SB(loop_b, work_dir='param_prot', water_model=\"tip3p\")\n",
    "\n",
    "#returning the molecule that was parameterised with ff14\n",
    "ff14_protein = process.getMolecule() "
   ]
  },
  {
   "cell_type": "code",
   "execution_count": 7,
   "metadata": {},
   "outputs": [
    {
     "data": {
      "application/vnd.jupyter.widget-view+json": {
       "model_id": "e0b6f904c9624afb8e18904d5b03f368",
       "version_major": 2,
       "version_minor": 0
      },
      "text/plain": [
       "NGLWidget(gui_style='ngl')"
      ]
     },
     "metadata": {},
     "output_type": "display_data"
    }
   ],
   "source": [
    "complex = ff14_protein + comp_19_esp\n",
    "view = BSS.Notebook.View(complex)\n",
    "view.system()"
   ]
  },
  {
   "cell_type": "code",
   "execution_count": 8,
   "metadata": {},
   "outputs": [
    {
     "name": "stdout",
     "output_type": "stream",
     "text": [
      "env: CUDA_VISIBLE_DEVICES=1\n"
     ]
    }
   ],
   "source": [
    "#solvation in tip3p water\n",
    "\n",
    "%env CUDA_VISIBLE_DEVICES=1\n",
    "\n",
    "# Find the dimensions of the protein\n",
    "box_min, box_max = protein.getAxisAlignedBoundingBox()\n",
    "\n",
    "# Work out the box size from the difference in the coordinates.\n",
    "box_size = [y - x for x, y in zip(box_min, box_max)]\n",
    "\n",
    "# how much to pad each side of the protein (nonbonded cutoff = 10 A)\n",
    "padding = 15 * BSS.Units.Length.angstrom\n",
    "\n",
    "box_length = max(box_size) + 2 * padding\n",
    "\n",
    "#cmplx = ff14_protein + comp_19_esp\n",
    "\n",
    "solvated = BSS.Solvent.tip3p(molecule=complex, box=3 * [box_length])\n"
   ]
  },
  {
   "cell_type": "code",
   "execution_count": 9,
   "metadata": {},
   "outputs": [
    {
     "data": {
      "application/vnd.jupyter.widget-view+json": {
       "model_id": "2404aa3d3cbf4f449960cc40b1cdf7fa",
       "version_major": 2,
       "version_minor": 0
      },
      "text/plain": [
       "NGLWidget(gui_style='ngl')"
      ]
     },
     "metadata": {},
     "output_type": "display_data"
    }
   ],
   "source": [
    "#viewing the slvated system\n",
    "view = BSS.Notebook.View(solvated)\n",
    "view.system()"
   ]
  },
  {
   "cell_type": "code",
   "execution_count": 10,
   "metadata": {},
   "outputs": [
    {
     "name": "stdout",
     "output_type": "stream",
     "text": [
      "env: CUDA_VISIBLE_DEVICES=1\n",
      "-3.2915e+05 kcal/mol\n"
     ]
    }
   ],
   "source": [
    "#minimisation\n",
    "%env CUDA_VISIBLE_DEVICES=1\n",
    "\n",
    "protocol = BSS.Protocol.Minimisation(steps=5000)\n",
    "process= BSS.Process.Amber(solvated, protocol,  exe='/usr/local/amber22_test/bin/pmemd.cuda')\n",
    "process.start()\n",
    "print(process.getTotalEnergy(block=True))"
   ]
  },
  {
   "cell_type": "code",
   "execution_count": 11,
   "metadata": {},
   "outputs": [],
   "source": [
    "minimised = process.getSystem(block=True)"
   ]
  },
  {
   "cell_type": "code",
   "execution_count": 12,
   "metadata": {},
   "outputs": [
    {
     "name": "stdout",
     "output_type": "stream",
     "text": [
      "env: CUDA_VISIBLE_DEVICES=1\n"
     ]
    }
   ],
   "source": [
    "#equilibration\n",
    "\n",
    "%env CUDA_VISIBLE_DEVICES=1\n",
    "\n",
    "protocol= BSS.Protocol.Equilibration(runtime = 0.2 * BSS.Units.Time.nanosecond)\n",
    "process = BSS.Process.Amber(minimised, protocol, exe='/usr/local/amber22_test/bin/pmemd.cuda', work_dir='equib')\n",
    "process\n",
    "process.start()\n",
    "equilibrated = process.getSystem(block=True)"
   ]
  },
  {
   "cell_type": "code",
   "execution_count": 13,
   "metadata": {},
   "outputs": [
    {
     "data": {
      "image/png": "[encoded data removed]",
      "text/plain": [
       "<Figure size 800x600 with 1 Axes>"
      ]
     },
     "metadata": {},
     "output_type": "display_data"
    }
   ],
   "source": [
    "plot = BSS.Notebook.plot(process.getTime(time_series=True), process.getTotalEnergy(time_series=True))"
   ]
  },
  {
   "cell_type": "code",
   "execution_count": 14,
   "metadata": {},
   "outputs": [],
   "source": [
    "#collecting the data for 100 ns (note:report interval 125000 for the long simulations to get 4000 frames also, insead of 12500)\n",
    "protocol = BSS.Protocol.Production(timestep=2.0000 * BSS.Units.Time.femtosecond, runtime= 100 * BSS.Units.Time.nanosecond, report_interval = 5000, restart_interval=12500)\n",
    "process = BSS.Process.Amber(equilibrated, protocol, exe='/usr/local/amber22_test/bin/pmemd.cuda', work_dir='prod_100ns_esp_4000_3')\n",
    "#process.start()"
   ]
  },
  {
   "cell_type": "code",
   "execution_count": null,
   "metadata": {},
   "outputs": [],
   "source": [
    "#use set-up files by BSS to run slurm script for data production"
   ]
  },
  {
   "cell_type": "markdown",
   "metadata": {},
   "source": []
  }
 ],
 "metadata": {
  "kernelspec": {
   "display_name": "openbiosim",
   "language": "python",
   "name": "python3"
  },
  "language_info": {
   "codemirror_mode": {
    "name": "ipython",
    "version": 3
   },
   "file_extension": ".py",
   "mimetype": "text/x-python",
   "name": "python",
   "nbconvert_exporter": "python",
   "pygments_lexer": "ipython3",
   "version": "3.9.18"
  },
  "orig_nbformat": 4
 },
 "nbformat": 4,
 "nbformat_minor": 2
}
